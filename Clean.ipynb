{
 "cells": [
  {
   "cell_type": "code",
   "execution_count": 1,
   "metadata": {
    "collapsed": true,
    "deletable": true,
    "editable": true
   },
   "outputs": [],
   "source": [
    "import pandas as pd\n",
    "import numpy as np"
   ]
  },
  {
   "cell_type": "code",
   "execution_count": 3,
   "metadata": {
    "collapsed": false,
    "deletable": true,
    "editable": true
   },
   "outputs": [],
   "source": [
    "# read in the data\n",
    "origin = pd.read_csv(\"originaldata.csv\", low_memory=False)"
   ]
  },
  {
   "cell_type": "code",
   "execution_count": 4,
   "metadata": {
    "collapsed": false,
    "deletable": true,
    "editable": true
   },
   "outputs": [
    {
     "data": {
      "text/plain": [
       "['RA_Report #',\n",
       " 'RA_CAERS Created Date',\n",
       " 'AEC_Event Start Date',\n",
       " 'PRI_Product Role',\n",
       " 'PRI_Reported Brand/Product Name',\n",
       " 'PRI_FDA Industry Code',\n",
       " 'PRI_FDA Industry Name',\n",
       " 'CI_Age at Adverse Event',\n",
       " 'CI_Age Unit',\n",
       " 'CI_Gender',\n",
       " 'AEC_One Row Outcomes',\n",
       " 'SYM_One Row Coded Symptoms']"
      ]
     },
     "execution_count": 4,
     "metadata": {},
     "output_type": "execute_result"
    }
   ],
   "source": [
    "list(origin)"
   ]
  },
  {
   "cell_type": "code",
   "execution_count": 6,
   "metadata": {
    "collapsed": false,
    "deletable": true,
    "editable": true
   },
   "outputs": [
    {
     "data": {
      "text/html": [
       "<div>\n",
       "<style>\n",
       "    .dataframe thead tr:only-child th {\n",
       "        text-align: right;\n",
       "    }\n",
       "\n",
       "    .dataframe thead th {\n",
       "        text-align: left;\n",
       "    }\n",
       "\n",
       "    .dataframe tbody tr th {\n",
       "        vertical-align: top;\n",
       "    }\n",
       "</style>\n",
       "<table border=\"1\" class=\"dataframe\">\n",
       "  <thead>\n",
       "    <tr style=\"text-align: right;\">\n",
       "      <th></th>\n",
       "      <th>RA_Report #</th>\n",
       "      <th>RA_CAERS Created Date</th>\n",
       "      <th>AEC_Event Start Date</th>\n",
       "      <th>PRI_Product Role</th>\n",
       "      <th>PRI_Reported Brand/Product Name</th>\n",
       "      <th>PRI_FDA Industry Code</th>\n",
       "      <th>PRI_FDA Industry Name</th>\n",
       "      <th>CI_Age at Adverse Event</th>\n",
       "      <th>CI_Age Unit</th>\n",
       "      <th>CI_Gender</th>\n",
       "      <th>AEC_One Row Outcomes</th>\n",
       "      <th>SYM_One Row Coded Symptoms</th>\n",
       "    </tr>\n",
       "  </thead>\n",
       "  <tbody>\n",
       "    <tr>\n",
       "      <th>0</th>\n",
       "      <td>65325</td>\n",
       "      <td>1/1/04</td>\n",
       "      <td>8/4/03</td>\n",
       "      <td>Suspect</td>\n",
       "      <td>MIDWEST COUNTRY FAIR CHOCOLATE FLAVORED CHIPS</td>\n",
       "      <td>3</td>\n",
       "      <td>Bakery Prod/Dough/Mix/Icing</td>\n",
       "      <td>2.0</td>\n",
       "      <td>Year(s)</td>\n",
       "      <td>Female</td>\n",
       "      <td>VISITED AN ER, VISITED A HEALTH CARE PROVIDER,...</td>\n",
       "      <td>SWELLING FACE, WHEEZING, COUGH, RASH, HOSPITAL...</td>\n",
       "    </tr>\n",
       "    <tr>\n",
       "      <th>1</th>\n",
       "      <td>65333</td>\n",
       "      <td>1/1/04</td>\n",
       "      <td>NaN</td>\n",
       "      <td>Suspect</td>\n",
       "      <td>KROGER CLASSIC CREAM-DE-MINT CANDY MINT CHIP I...</td>\n",
       "      <td>13</td>\n",
       "      <td>Ice Cream Prod</td>\n",
       "      <td>NaN</td>\n",
       "      <td>Not Available</td>\n",
       "      <td>Female</td>\n",
       "      <td>VISITED AN ER</td>\n",
       "      <td>NAUSEA, DYSGEUSIA, DIARRHOEA</td>\n",
       "    </tr>\n",
       "    <tr>\n",
       "      <th>2</th>\n",
       "      <td>65335</td>\n",
       "      <td>1/1/04</td>\n",
       "      <td>11/24/03</td>\n",
       "      <td>Suspect</td>\n",
       "      <td>ENFAMIL LIPIL BABY FORMULA</td>\n",
       "      <td>40</td>\n",
       "      <td>Baby Food Prod</td>\n",
       "      <td>3.0</td>\n",
       "      <td>Month(s)</td>\n",
       "      <td>Not Available</td>\n",
       "      <td>NON-SERIOUS INJURIES/ ILLNESS</td>\n",
       "      <td>GASTROINTESTINAL DISORDER, VOMITING</td>\n",
       "    </tr>\n",
       "    <tr>\n",
       "      <th>3</th>\n",
       "      <td>65336</td>\n",
       "      <td>1/1/04</td>\n",
       "      <td>NaN</td>\n",
       "      <td>Suspect</td>\n",
       "      <td>ENFIMIL LIPIL BABY FORMULA</td>\n",
       "      <td>40</td>\n",
       "      <td>Baby Food Prod</td>\n",
       "      <td>NaN</td>\n",
       "      <td>Not Available</td>\n",
       "      <td>Not Available</td>\n",
       "      <td>VISITED A HEALTH CARE PROVIDER</td>\n",
       "      <td>GASTROINTESTINAL DISORDER, PHYSICAL EXAMINATION</td>\n",
       "    </tr>\n",
       "    <tr>\n",
       "      <th>4</th>\n",
       "      <td>65345</td>\n",
       "      <td>1/1/04</td>\n",
       "      <td>12/21/03</td>\n",
       "      <td>Suspect</td>\n",
       "      <td>FRITO LAY FUNYUNS ONION FLAVOR, ONION RINGS</td>\n",
       "      <td>7</td>\n",
       "      <td>Snack Food Item</td>\n",
       "      <td>10.0</td>\n",
       "      <td>Year(s)</td>\n",
       "      <td>Male</td>\n",
       "      <td>NON-SERIOUS INJURIES/ ILLNESS</td>\n",
       "      <td>CHOKING</td>\n",
       "    </tr>\n",
       "  </tbody>\n",
       "</table>\n",
       "</div>"
      ],
      "text/plain": [
       "   RA_Report # RA_CAERS Created Date AEC_Event Start Date PRI_Product Role  \\\n",
       "0        65325                1/1/04               8/4/03          Suspect   \n",
       "1        65333                1/1/04                  NaN          Suspect   \n",
       "2        65335                1/1/04             11/24/03          Suspect   \n",
       "3        65336                1/1/04                  NaN          Suspect   \n",
       "4        65345                1/1/04             12/21/03          Suspect   \n",
       "\n",
       "                     PRI_Reported Brand/Product Name PRI_FDA Industry Code  \\\n",
       "0      MIDWEST COUNTRY FAIR CHOCOLATE FLAVORED CHIPS                     3   \n",
       "1  KROGER CLASSIC CREAM-DE-MINT CANDY MINT CHIP I...                    13   \n",
       "2                         ENFAMIL LIPIL BABY FORMULA                    40   \n",
       "3                         ENFIMIL LIPIL BABY FORMULA                    40   \n",
       "4        FRITO LAY FUNYUNS ONION FLAVOR, ONION RINGS                     7   \n",
       "\n",
       "         PRI_FDA Industry Name  CI_Age at Adverse Event    CI_Age Unit  \\\n",
       "0  Bakery Prod/Dough/Mix/Icing                      2.0        Year(s)   \n",
       "1               Ice Cream Prod                      NaN  Not Available   \n",
       "2               Baby Food Prod                      3.0       Month(s)   \n",
       "3               Baby Food Prod                      NaN  Not Available   \n",
       "4              Snack Food Item                     10.0        Year(s)   \n",
       "\n",
       "       CI_Gender                               AEC_One Row Outcomes  \\\n",
       "0         Female  VISITED AN ER, VISITED A HEALTH CARE PROVIDER,...   \n",
       "1         Female                                      VISITED AN ER   \n",
       "2  Not Available                      NON-SERIOUS INJURIES/ ILLNESS   \n",
       "3  Not Available                     VISITED A HEALTH CARE PROVIDER   \n",
       "4           Male                      NON-SERIOUS INJURIES/ ILLNESS   \n",
       "\n",
       "                          SYM_One Row Coded Symptoms  \n",
       "0  SWELLING FACE, WHEEZING, COUGH, RASH, HOSPITAL...  \n",
       "1                       NAUSEA, DYSGEUSIA, DIARRHOEA  \n",
       "2                GASTROINTESTINAL DISORDER, VOMITING  \n",
       "3    GASTROINTESTINAL DISORDER, PHYSICAL EXAMINATION  \n",
       "4                                            CHOKING  "
      ]
     },
     "execution_count": 6,
     "metadata": {},
     "output_type": "execute_result"
    }
   ],
   "source": [
    "origin[:5]"
   ]
  },
  {
   "cell_type": "code",
   "execution_count": 5,
   "metadata": {
    "collapsed": false,
    "deletable": true,
    "editable": true
   },
   "outputs": [],
   "source": [
    "# define variables types:\n",
    "origin['RA_Report #'] = origin['RA_Report #'].astype('str')  \n",
    "#origin['RA_CAERS Created Date'] = origin['RA_CAERS Created Date'].astype('str') \n",
    "#origin['AEC_Event Start Date'] \n",
    "origin['PRI_Product Role'] = origin['PRI_Product Role'].astype('str') \n",
    "origin['PRI_Reported Brand/Product Name'] = origin['PRI_Reported Brand/Product Name'].astype('str')\n",
    "origin['PRI_FDA Industry Code'] = origin['PRI_FDA Industry Code'].astype('str')           \n",
    "origin['PRI_FDA Industry Name'] = origin['PRI_FDA Industry Name'].astype('str')\n",
    "origin['CI_Age Unit'] = origin['CI_Age Unit'].astype('str')\n",
    "origin['CI_Gender'] = origin['CI_Gender'].astype('str')\n",
    "origin['SYM_One Row Coded Symptoms'] = origin['SYM_One Row Coded Symptoms'].astype('str')\n",
    "\n",
    "# convert last column from strings to lists (time consuming!)\n",
    "# for i in range(50):\n",
    "#     #print i\n",
    "#     origin['SYM_One Row Coded Symptoms'][i] = origin['SYM_One Row Coded Symptoms'][i].split(',')\n",
    "    "
   ]
  },
  {
   "cell_type": "code",
   "execution_count": 6,
   "metadata": {
    "collapsed": false,
    "deletable": true,
    "editable": true
   },
   "outputs": [
    {
     "data": {
      "text/plain": [
       "Year(s)     46990\n",
       "Month(s)     1153\n",
       "Week(s)       162\n",
       "Day(s)        138\n",
       "Name: CI_Age Unit, dtype: int64"
      ]
     },
     "execution_count": 6,
     "metadata": {},
     "output_type": "execute_result"
    }
   ],
   "source": [
    "# missing data: not available, etc. \n",
    "origin['CI_Age Unit'] = origin['CI_Age Unit'].replace('Not Available', np.nan)\n",
    "# Deal with decades\n",
    "origin.ix[origin['CI_Age Unit'] == 'Decade(s)', 'CI_Age at Adverse Event'] *= 10\n",
    "origin.ix[origin['CI_Age Unit'] == 'Decade(s)', 'CI_Age Unit'] = 'Year(s)'\n",
    "\n",
    "origin['CI_Age Unit'].value_counts()\n",
    "\n",
    "\n",
    "# for i in range(50):\n",
    "#     if origin['CI_Age Unit'][i] == \"Not Available\":\n",
    "#         origin['CI_Age Unit'][i] = np.nan\n",
    "        \n",
    "#origin.ix[['Not Available'],['CI_Age Unit']] = np.nan"
   ]
  },
  {
   "cell_type": "code",
   "execution_count": 7,
   "metadata": {
    "collapsed": false,
    "deletable": true,
    "editable": true
   },
   "outputs": [
    {
     "name": "stderr",
     "output_type": "stream",
     "text": [
      "/Users/huilin/anaconda/lib/python2.7/site-packages/ipykernel/__main__.py:7: SettingWithCopyWarning: \n",
      "A value is trying to be set on a copy of a slice from a DataFrame\n",
      "\n",
      "See the caveats in the documentation: http://pandas.pydata.org/pandas-docs/stable/indexing.html#indexing-view-versus-copy\n",
      "/Users/huilin/anaconda/lib/python2.7/site-packages/ipykernel/__main__.py:8: SettingWithCopyWarning: \n",
      "A value is trying to be set on a copy of a slice from a DataFrame\n",
      "\n",
      "See the caveats in the documentation: http://pandas.pydata.org/pandas-docs/stable/indexing.html#indexing-view-versus-copy\n"
     ]
    },
    {
     "data": {
      "text/plain": [
       "count    86.000000\n",
       "mean     10.465116\n",
       "std       9.223624\n",
       "min       0.000000\n",
       "25%       2.250000\n",
       "50%       7.500000\n",
       "75%      18.750000\n",
       "max      30.000000\n",
       "Name: CI_Age at Adverse Event, dtype: float64"
      ]
     },
     "execution_count": 7,
     "metadata": {},
     "output_type": "execute_result"
    }
   ],
   "source": [
    "# remove outliers, and do descriptive analysis for each category of CI_Age Unit\n",
    "# days\n",
    "#origin[origin['CI_Age Unit'] == 'Day(s)'].describe()\n",
    "\n",
    "for i in range(len(origin.index)):\n",
    "    if (origin['CI_Age at Adverse Event'][i] >= 31) & (origin['CI_Age Unit'][i] == 'Day(s)'):\n",
    "        origin['CI_Age at Adverse Event'][i] /= 30\n",
    "        origin['CI_Age Unit'][i] = 'Month(s)'\n",
    "        \n",
    "days = origin[origin['CI_Age Unit'] == 'Day(s)']\n",
    "#days\n",
    "days['CI_Age at Adverse Event'].describe()\n"
   ]
  },
  {
   "cell_type": "code",
   "execution_count": 8,
   "metadata": {
    "collapsed": false,
    "deletable": true,
    "editable": true
   },
   "outputs": [
    {
     "data": {
      "text/plain": [
       "Year(s)     46990\n",
       "Month(s)     1205\n",
       "Week(s)       162\n",
       "Day(s)         86\n",
       "Name: CI_Age Unit, dtype: int64"
      ]
     },
     "execution_count": 8,
     "metadata": {},
     "output_type": "execute_result"
    }
   ],
   "source": [
    "origin['CI_Age Unit'].value_counts()"
   ]
  },
  {
   "cell_type": "code",
   "execution_count": 9,
   "metadata": {
    "collapsed": false,
    "deletable": true,
    "editable": true
   },
   "outputs": [
    {
     "name": "stderr",
     "output_type": "stream",
     "text": [
      "/Users/huilin/anaconda/lib/python2.7/site-packages/ipykernel/__main__.py:7: SettingWithCopyWarning: \n",
      "A value is trying to be set on a copy of a slice from a DataFrame\n",
      "\n",
      "See the caveats in the documentation: http://pandas.pydata.org/pandas-docs/stable/indexing.html#indexing-view-versus-copy\n",
      "/Users/huilin/anaconda/lib/python2.7/site-packages/ipykernel/__main__.py:8: SettingWithCopyWarning: \n",
      "A value is trying to be set on a copy of a slice from a DataFrame\n",
      "\n",
      "See the caveats in the documentation: http://pandas.pydata.org/pandas-docs/stable/indexing.html#indexing-view-versus-copy\n",
      "/Users/huilin/anaconda/lib/python2.7/site-packages/ipykernel/__main__.py:10: SettingWithCopyWarning: \n",
      "A value is trying to be set on a copy of a slice from a DataFrame\n",
      "\n",
      "See the caveats in the documentation: http://pandas.pydata.org/pandas-docs/stable/indexing.html#indexing-view-versus-copy\n",
      "/Users/huilin/anaconda/lib/python2.7/site-packages/ipykernel/__main__.py:11: SettingWithCopyWarning: \n",
      "A value is trying to be set on a copy of a slice from a DataFrame\n",
      "\n",
      "See the caveats in the documentation: http://pandas.pydata.org/pandas-docs/stable/indexing.html#indexing-view-versus-copy\n"
     ]
    },
    {
     "data": {
      "text/plain": [
       "count    0.0\n",
       "mean     NaN\n",
       "std      NaN\n",
       "min      NaN\n",
       "25%      NaN\n",
       "50%      NaN\n",
       "75%      NaN\n",
       "max      NaN\n",
       "Name: CI_Age at Adverse Event, dtype: float64"
      ]
     },
     "execution_count": 9,
     "metadata": {},
     "output_type": "execute_result"
    }
   ],
   "source": [
    "# weeks\n",
    "weeks = origin[origin['CI_Age Unit'] == 'Week(s)']\n",
    "weeks['CI_Age at Adverse Event'].describe()\n",
    "\n",
    "for i in range(len(origin.index)):\n",
    "    if (origin['CI_Age at Adverse Event'][i] > 4) & (origin['CI_Age Unit'][i] == 'Week(s)'):\n",
    "        origin['CI_Age at Adverse Event'][i] /= 4\n",
    "        origin['CI_Age Unit'][i] = 'Month(s)'\n",
    "    if (origin['CI_Age at Adverse Event'][i] <= 4) & (origin['CI_Age Unit'][i] == 'Week(s)'):\n",
    "        origin['CI_Age at Adverse Event'][i] *= 7\n",
    "        origin['CI_Age Unit'][i] = 'Day(s)'\n",
    "        \n",
    "weeks = origin[origin['CI_Age Unit'] == 'Week(s)']\n",
    "weeks\n",
    "weeks['CI_Age at Adverse Event'].describe()\n"
   ]
  },
  {
   "cell_type": "code",
   "execution_count": 10,
   "metadata": {
    "collapsed": false,
    "deletable": true,
    "editable": true
   },
   "outputs": [
    {
     "name": "stderr",
     "output_type": "stream",
     "text": [
      "/Users/huilin/anaconda/lib/python2.7/site-packages/ipykernel/__main__.py:6: SettingWithCopyWarning: \n",
      "A value is trying to be set on a copy of a slice from a DataFrame\n",
      "\n",
      "See the caveats in the documentation: http://pandas.pydata.org/pandas-docs/stable/indexing.html#indexing-view-versus-copy\n",
      "/Users/huilin/anaconda/lib/python2.7/site-packages/ipykernel/__main__.py:7: SettingWithCopyWarning: \n",
      "A value is trying to be set on a copy of a slice from a DataFrame\n",
      "\n",
      "See the caveats in the documentation: http://pandas.pydata.org/pandas-docs/stable/indexing.html#indexing-view-versus-copy\n"
     ]
    },
    {
     "data": {
      "text/plain": [
       "count    998.000000\n",
       "mean       5.237792\n",
       "std        3.074188\n",
       "min        0.000000\n",
       "25%        2.500000\n",
       "50%        5.000000\n",
       "75%        8.000000\n",
       "max       12.000000\n",
       "Name: CI_Age at Adverse Event, dtype: float64"
      ]
     },
     "execution_count": 10,
     "metadata": {},
     "output_type": "execute_result"
    }
   ],
   "source": [
    "# remove outliers, and do descriptive analysis for each category of CI_Age Unit\n",
    "# month\n",
    "\n",
    "for i in range(len(origin.index)):\n",
    "    if (origin['CI_Age at Adverse Event'][i] > 12) & (origin['CI_Age Unit'][i] == 'Month(s)'):\n",
    "        origin['CI_Age at Adverse Event'][i] /= 12\n",
    "        origin['CI_Age Unit'][i] = 'Year(s)'\n",
    "        \n",
    "month = origin[origin['CI_Age Unit'] == 'Month(s)']\n",
    "month\n",
    "month['CI_Age at Adverse Event'].describe()\n",
    "\n",
    "#origin[(origin['CI_Age at Adverse Event'] >= 36) & (origin['CI_Age Unit'] == 'Month(s)')] = np.nan\n",
    "#months = origin[origin['CI_Age Unit'] == 'Month(s)']\n",
    "#months['CI_Age at Adverse Event'].describe()"
   ]
  },
  {
   "cell_type": "code",
   "execution_count": 11,
   "metadata": {
    "collapsed": false,
    "deletable": true,
    "editable": true
   },
   "outputs": [
    {
     "data": {
      "text/plain": [
       "count    47309.000000\n",
       "mean        51.514467\n",
       "std         22.257302\n",
       "min          1.000000\n",
       "25%         36.000000\n",
       "50%         54.000000\n",
       "75%         69.000000\n",
       "max         99.000000\n",
       "Name: CI_Age at Adverse Event, dtype: float64"
      ]
     },
     "execution_count": 11,
     "metadata": {},
     "output_type": "execute_result"
    }
   ],
   "source": [
    "# remove outliers, and do descriptive analysis for each category of CI_Age Unit\n",
    "# years: years >= 100 can be viewed as outliers\n",
    "origin[(origin['CI_Age at Adverse Event']>= 100) & (origin['CI_Age Unit'] == 'Year(s)')] = np.nan\n",
    "years = origin[origin['CI_Age Unit'] == 'Year(s)']\n",
    "years['CI_Age at Adverse Event'].describe()\n"
   ]
  },
  {
   "cell_type": "code",
   "execution_count": 12,
   "metadata": {
    "collapsed": false,
    "deletable": true,
    "editable": true
   },
   "outputs": [
    {
     "data": {
      "text/plain": [
       "Year(s)     47309\n",
       "Month(s)      998\n",
       "Day(s)        116\n",
       "Name: CI_Age Unit, dtype: int64"
      ]
     },
     "execution_count": 12,
     "metadata": {},
     "output_type": "execute_result"
    }
   ],
   "source": [
    "origin['CI_Age Unit'].value_counts()"
   ]
  },
  {
   "cell_type": "code",
   "execution_count": 13,
   "metadata": {
    "collapsed": false,
    "deletable": true,
    "editable": true
   },
   "outputs": [
    {
     "data": {
      "text/plain": [
       "48443"
      ]
     },
     "execution_count": 13,
     "metadata": {},
     "output_type": "execute_result"
    }
   ],
   "source": [
    "# after \n",
    "46990 + 1153 + 162 + 138"
   ]
  },
  {
   "cell_type": "code",
   "execution_count": 14,
   "metadata": {
    "collapsed": false,
    "deletable": true,
    "editable": true
   },
   "outputs": [
    {
     "data": {
      "text/plain": [
       "48423"
      ]
     },
     "execution_count": 14,
     "metadata": {},
     "output_type": "execute_result"
    }
   ],
   "source": [
    "# after: the difference is outliers \n",
    "47309 + 998 + 116"
   ]
  },
  {
   "cell_type": "code",
   "execution_count": 15,
   "metadata": {
    "collapsed": false,
    "deletable": true,
    "editable": true
   },
   "outputs": [
    {
     "name": "stderr",
     "output_type": "stream",
     "text": [
      "/Users/huilin/anaconda/lib/python2.7/site-packages/ipykernel/__main__.py:9: SettingWithCopyWarning: \n",
      "A value is trying to be set on a copy of a slice from a DataFrame\n",
      "\n",
      "See the caveats in the documentation: http://pandas.pydata.org/pandas-docs/stable/indexing.html#indexing-view-versus-copy\n"
     ]
    }
   ],
   "source": [
    "# create an age_interval based on age variable\n",
    "\n",
    "origin['Age_interval'] = np.nan\n",
    "\n",
    "yearsbin = [0, 20, 40, 60, 80, 100]\n",
    "yearscategory = ['0-20', '21-40', '41-60','61-80','81-100']\n",
    "year_interval = pd.cut(origin['CI_Age at Adverse Event'][origin['CI_Age Unit'] == 'Year(s)'], yearsbin, labels=yearscategory)\n",
    "\n",
    "origin['Age_interval'][origin['CI_Age Unit'] == 'Year(s)'] = year_interval\n",
    "\n",
    "#year_interval\n",
    "#df.loc[df['B'] == 3, 'A'].\n",
    "#origin.loc[origin['CI_Age Unit'] == 'Month(s)', 'Age_interval']"
   ]
  },
  {
   "cell_type": "code",
   "execution_count": 16,
   "metadata": {
    "collapsed": false,
    "deletable": true,
    "editable": true
   },
   "outputs": [
    {
     "name": "stderr",
     "output_type": "stream",
     "text": [
      "/Users/huilin/anaconda/lib/python2.7/site-packages/ipykernel/__main__.py:6: SettingWithCopyWarning: \n",
      "A value is trying to be set on a copy of a slice from a DataFrame\n",
      "\n",
      "See the caveats in the documentation: http://pandas.pydata.org/pandas-docs/stable/indexing.html#indexing-view-versus-copy\n"
     ]
    }
   ],
   "source": [
    "# age_interval: month\n",
    "monthsbin = [0, 3, 6, 9, 12]\n",
    "monthscategory = ['0-3', '3-6', '6-9','9-12']\n",
    "month_interval = pd.cut(origin['CI_Age at Adverse Event'][origin['CI_Age Unit'] == 'Month(s)'], monthsbin, labels=monthscategory)\n",
    "\n",
    "origin['Age_interval'][origin['CI_Age Unit'] == 'Month(s)'] = month_interval"
   ]
  },
  {
   "cell_type": "code",
   "execution_count": 17,
   "metadata": {
    "collapsed": false,
    "deletable": true,
    "editable": true
   },
   "outputs": [
    {
     "name": "stderr",
     "output_type": "stream",
     "text": [
      "/Users/huilin/anaconda/lib/python2.7/site-packages/ipykernel/__main__.py:6: SettingWithCopyWarning: \n",
      "A value is trying to be set on a copy of a slice from a DataFrame\n",
      "\n",
      "See the caveats in the documentation: http://pandas.pydata.org/pandas-docs/stable/indexing.html#indexing-view-versus-copy\n"
     ]
    }
   ],
   "source": [
    "# age_interval: days\n",
    "daysbin = [0, 5, 10, 15, 20, 25, 30]\n",
    "dayscategory = ['0-5', '5-10', '10-15','15-20', '20-25', '25-30']\n",
    "days_interval = pd.cut(origin['CI_Age at Adverse Event'][origin['CI_Age Unit'] == 'Day(s)'], daysbin, labels=dayscategory)\n",
    "\n",
    "origin['Age_interval'][origin['CI_Age Unit'] == 'Day(s)'] = days_interval"
   ]
  },
  {
   "cell_type": "code",
   "execution_count": 18,
   "metadata": {
    "collapsed": false,
    "deletable": true,
    "editable": true
   },
   "outputs": [],
   "source": [
    "#origin['Age_interval'].describe()"
   ]
  },
  {
   "cell_type": "code",
   "execution_count": 19,
   "metadata": {
    "collapsed": false,
    "deletable": true,
    "editable": true,
    "scrolled": false
   },
   "outputs": [
    {
     "data": {
      "text/plain": [
       "Female    50383\n",
       "Male      25374\n",
       "Name: CI_Gender, dtype: int64"
      ]
     },
     "execution_count": 19,
     "metadata": {},
     "output_type": "execute_result"
    }
   ],
   "source": [
    "# Gender: missing data \n",
    "origin['CI_Gender'].value_counts()\n",
    "origin['CI_Gender'] = origin['CI_Gender'].replace('Not Available', np.nan)\n",
    "origin['CI_Gender'] = origin['CI_Gender'].replace('Unknown', np.nan)\n",
    "origin['CI_Gender'] = origin['CI_Gender'].replace('Not Reported', np.nan)\n",
    "origin['CI_Gender'].value_counts()"
   ]
  },
  {
   "cell_type": "code",
   "execution_count": 20,
   "metadata": {
    "collapsed": true,
    "deletable": true,
    "editable": true
   },
   "outputs": [],
   "source": [
    "# Rename variables\n",
    "origin = origin.rename(columns={'AEC_Event Start Date': 'Start_Date', 'PRI_Product Role': 'Role', \n",
    "                                'PRI_Reported Brand/Product Name': 'Brand/Product', 'PRI_FDA Industry Name': 'Industry'})                            \n",
    "origin = origin.rename(columns={'CI_Age at Adverse Event': 'Age', 'CI_Age Unit': 'Age', 'CI_Age Unit': 'Age Unit', \n",
    "                                'CI_Gender': 'Gender'})"
   ]
  },
  {
   "cell_type": "code",
   "execution_count": 21,
   "metadata": {
    "collapsed": false,
    "deletable": true,
    "editable": true
   },
   "outputs": [],
   "source": [
    "#origin['PRI_FDA Industry Name'] = origin['PRI_FDA Industry Name'].apply(lambda x: x.split('/')[0])"
   ]
  },
  {
   "cell_type": "code",
   "execution_count": 22,
   "metadata": {
    "collapsed": false,
    "deletable": true,
    "editable": true
   },
   "outputs": [],
   "source": [
    "#origin['PRI_FDA Industry Name']"
   ]
  },
  {
   "cell_type": "code",
   "execution_count": 23,
   "metadata": {
    "collapsed": false,
    "deletable": true,
    "editable": true
   },
   "outputs": [],
   "source": [
    "#origin['PRI_FDA Industry Name'][(origin['CI_Gender'] == 'Female') & (origin['CI_Age Unit'] == 'Year(s)')].value_counts()"
   ]
  },
  {
   "cell_type": "code",
   "execution_count": 24,
   "metadata": {
    "collapsed": false,
    "deletable": true,
    "editable": true
   },
   "outputs": [
    {
     "data": {
      "text/plain": [
       "80169"
      ]
     },
     "execution_count": 24,
     "metadata": {},
     "output_type": "execute_result"
    }
   ],
   "source": [
    "len(origin.index)"
   ]
  },
  {
   "cell_type": "code",
   "execution_count": 36,
   "metadata": {
    "collapsed": false,
    "deletable": true,
    "editable": true
   },
   "outputs": [],
   "source": [
    "clean_data = origin\n",
    "clean_data.to_csv('clean_data.txt')"
   ]
  },
  {
   "cell_type": "code",
   "execution_count": 33,
   "metadata": {
    "collapsed": false,
    "deletable": true,
    "editable": true,
    "scrolled": true
   },
   "outputs": [
    {
     "name": "stdout",
     "output_type": "stream",
     "text": [
      "RA_Report #                    object\n",
      "RA_CAERS Created Date          object\n",
      "Start_Date                     object\n",
      "Role                           object\n",
      "Brand/Product                  object\n",
      "PRI_FDA Industry Code          object\n",
      "Industry                       object\n",
      "Age                           float64\n",
      "Age Unit                       object\n",
      "Gender                         object\n",
      "AEC_One Row Outcomes           object\n",
      "SYM_One Row Coded Symptoms     object\n",
      "Age_interval                   object\n",
      "dtype: object\n"
     ]
    }
   ],
   "source": [
    "print origin.dtypes"
   ]
  },
  {
   "cell_type": "code",
   "execution_count": 32,
   "metadata": {
    "collapsed": false,
    "deletable": true,
    "editable": true
   },
   "outputs": [],
   "source": [
    "origin['Age_interval'] = origin['Age_interval'].astype('str')"
   ]
  },
  {
   "cell_type": "code",
   "execution_count": 30,
   "metadata": {
    "collapsed": false,
    "deletable": true,
    "editable": true
   },
   "outputs": [
    {
     "data": {
      "text/plain": [
       "0-3     371\n",
       "3-6     282\n",
       "6-9     233\n",
       "9-12    111\n",
       "Name: Age_interval, dtype: int64"
      ]
     },
     "execution_count": 30,
     "metadata": {},
     "output_type": "execute_result"
    }
   ],
   "source": [
    "origin['Age_interval'][origin['Age Unit'] == 'Month(s)'].value_counts()"
   ]
  },
  {
   "cell_type": "code",
   "execution_count": null,
   "metadata": {
    "collapsed": true,
    "deletable": true,
    "editable": true
   },
   "outputs": [],
   "source": []
  }
 ],
 "metadata": {
  "kernelspec": {
   "display_name": "Python 2",
   "language": "python",
   "name": "python2"
  },
  "language_info": {
   "codemirror_mode": {
    "name": "ipython",
    "version": 2
   },
   "file_extension": ".py",
   "mimetype": "text/x-python",
   "name": "python",
   "nbconvert_exporter": "python",
   "pygments_lexer": "ipython2",
   "version": "2.7.13"
  }
 },
 "nbformat": 4,
 "nbformat_minor": 0
}
