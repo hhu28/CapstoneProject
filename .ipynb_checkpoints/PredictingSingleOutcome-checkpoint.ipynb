{
 "cells": [
  {
   "cell_type": "code",
   "execution_count": 1,
   "metadata": {
    "collapsed": false
   },
   "outputs": [
    {
     "name": "stderr",
     "output_type": "stream",
     "text": [
      "/opt/conda/lib/python2.7/site-packages/IPython/core/interactiveshell.py:2717: DtypeWarning: Columns (7) have mixed types. Specify dtype option on import or set low_memory=False.\n",
      "  interactivity=interactivity, compiler=compiler, result=result)\n"
     ]
    }
   ],
   "source": [
    "# read in clean data first\n",
    "import pandas as pd\n",
    "data = pd.read_csv('clean_data.csv')"
   ]
  },
  {
   "cell_type": "code",
   "execution_count": 2,
   "metadata": {
    "collapsed": false
   },
   "outputs": [
    {
     "data": {
      "text/html": [
       "<div>\n",
       "<style>\n",
       "    .dataframe thead tr:only-child th {\n",
       "        text-align: right;\n",
       "    }\n",
       "\n",
       "    .dataframe thead th {\n",
       "        text-align: left;\n",
       "    }\n",
       "\n",
       "    .dataframe tbody tr th {\n",
       "        vertical-align: top;\n",
       "    }\n",
       "</style>\n",
       "<table border=\"1\" class=\"dataframe\">\n",
       "  <thead>\n",
       "    <tr style=\"text-align: right;\">\n",
       "      <th></th>\n",
       "      <th>Unnamed: 0</th>\n",
       "      <th>RA_Report #</th>\n",
       "      <th>RA_CAERS Created Date</th>\n",
       "      <th>Year</th>\n",
       "      <th>Start_Date</th>\n",
       "      <th>Role</th>\n",
       "      <th>Brand/Product</th>\n",
       "      <th>PRI_FDA Industry Code</th>\n",
       "      <th>Industry</th>\n",
       "      <th>Age</th>\n",
       "      <th>Age Unit</th>\n",
       "      <th>Gender</th>\n",
       "      <th>AEC_One Row Outcomes</th>\n",
       "      <th>SYM_One Row Coded Symptoms</th>\n",
       "      <th>Age_interval</th>\n",
       "    </tr>\n",
       "  </thead>\n",
       "  <tbody>\n",
       "    <tr>\n",
       "      <th>0</th>\n",
       "      <td>0</td>\n",
       "      <td>65325.0</td>\n",
       "      <td>1/1/04</td>\n",
       "      <td>2004.0</td>\n",
       "      <td>8/4/03</td>\n",
       "      <td>Suspect</td>\n",
       "      <td>MIDWEST COUNTRY FAIR CHOCOLATE FLAVORED CHIPS</td>\n",
       "      <td>3</td>\n",
       "      <td>Bakery Prod</td>\n",
       "      <td>2.0</td>\n",
       "      <td>Year</td>\n",
       "      <td>Female</td>\n",
       "      <td>VISITED AN ER, VISITED A HEALTH CARE PROVIDER,...</td>\n",
       "      <td>SWELLING FACE, WHEEZING, COUGH, RASH, HOSPITAL...</td>\n",
       "      <td>0-20</td>\n",
       "    </tr>\n",
       "    <tr>\n",
       "      <th>1</th>\n",
       "      <td>1</td>\n",
       "      <td>65333.0</td>\n",
       "      <td>1/1/04</td>\n",
       "      <td>2004.0</td>\n",
       "      <td>NaN</td>\n",
       "      <td>Suspect</td>\n",
       "      <td>KROGER CLASSIC CREAM-DE-MINT CANDY MINT CHIP I...</td>\n",
       "      <td>13</td>\n",
       "      <td>Ice Cream Prod</td>\n",
       "      <td>NaN</td>\n",
       "      <td>NaN</td>\n",
       "      <td>Female</td>\n",
       "      <td>VISITED AN ER</td>\n",
       "      <td>NAUSEA, DYSGEUSIA, DIARRHOEA</td>\n",
       "      <td>NaN</td>\n",
       "    </tr>\n",
       "    <tr>\n",
       "      <th>2</th>\n",
       "      <td>2</td>\n",
       "      <td>65335.0</td>\n",
       "      <td>1/1/04</td>\n",
       "      <td>2004.0</td>\n",
       "      <td>11/24/03</td>\n",
       "      <td>Suspect</td>\n",
       "      <td>ENFAMIL LIPIL BABY FORMULA</td>\n",
       "      <td>40</td>\n",
       "      <td>Baby Food Prod</td>\n",
       "      <td>3.0</td>\n",
       "      <td>Month</td>\n",
       "      <td>NaN</td>\n",
       "      <td>NON-SERIOUS INJURIES/ ILLNESS</td>\n",
       "      <td>GASTROINTESTINAL DISORDER, VOMITING</td>\n",
       "      <td>0-3</td>\n",
       "    </tr>\n",
       "    <tr>\n",
       "      <th>3</th>\n",
       "      <td>3</td>\n",
       "      <td>65336.0</td>\n",
       "      <td>1/1/04</td>\n",
       "      <td>2004.0</td>\n",
       "      <td>NaN</td>\n",
       "      <td>Suspect</td>\n",
       "      <td>ENFIMIL LIPIL BABY FORMULA</td>\n",
       "      <td>40</td>\n",
       "      <td>Baby Food Prod</td>\n",
       "      <td>NaN</td>\n",
       "      <td>NaN</td>\n",
       "      <td>NaN</td>\n",
       "      <td>VISITED A HEALTH CARE PROVIDER</td>\n",
       "      <td>GASTROINTESTINAL DISORDER, PHYSICAL EXAMINATION</td>\n",
       "      <td>NaN</td>\n",
       "    </tr>\n",
       "    <tr>\n",
       "      <th>4</th>\n",
       "      <td>4</td>\n",
       "      <td>65345.0</td>\n",
       "      <td>1/1/04</td>\n",
       "      <td>2004.0</td>\n",
       "      <td>12/21/03</td>\n",
       "      <td>Suspect</td>\n",
       "      <td>FRITO LAY FUNYUNS ONION FLAVOR, ONION RINGS</td>\n",
       "      <td>7</td>\n",
       "      <td>Snack Food Item</td>\n",
       "      <td>10.0</td>\n",
       "      <td>Year</td>\n",
       "      <td>Male</td>\n",
       "      <td>NON-SERIOUS INJURIES/ ILLNESS</td>\n",
       "      <td>CHOKING</td>\n",
       "      <td>0-20</td>\n",
       "    </tr>\n",
       "  </tbody>\n",
       "</table>\n",
       "</div>"
      ],
      "text/plain": [
       "   Unnamed: 0  RA_Report # RA_CAERS Created Date    Year Start_Date     Role  \\\n",
       "0           0      65325.0                1/1/04  2004.0     8/4/03  Suspect   \n",
       "1           1      65333.0                1/1/04  2004.0        NaN  Suspect   \n",
       "2           2      65335.0                1/1/04  2004.0   11/24/03  Suspect   \n",
       "3           3      65336.0                1/1/04  2004.0        NaN  Suspect   \n",
       "4           4      65345.0                1/1/04  2004.0   12/21/03  Suspect   \n",
       "\n",
       "                                       Brand/Product PRI_FDA Industry Code  \\\n",
       "0      MIDWEST COUNTRY FAIR CHOCOLATE FLAVORED CHIPS                     3   \n",
       "1  KROGER CLASSIC CREAM-DE-MINT CANDY MINT CHIP I...                    13   \n",
       "2                         ENFAMIL LIPIL BABY FORMULA                    40   \n",
       "3                         ENFIMIL LIPIL BABY FORMULA                    40   \n",
       "4        FRITO LAY FUNYUNS ONION FLAVOR, ONION RINGS                     7   \n",
       "\n",
       "          Industry   Age Age Unit  Gender  \\\n",
       "0      Bakery Prod   2.0     Year  Female   \n",
       "1   Ice Cream Prod   NaN      NaN  Female   \n",
       "2   Baby Food Prod   3.0    Month     NaN   \n",
       "3   Baby Food Prod   NaN      NaN     NaN   \n",
       "4  Snack Food Item  10.0     Year    Male   \n",
       "\n",
       "                                AEC_One Row Outcomes  \\\n",
       "0  VISITED AN ER, VISITED A HEALTH CARE PROVIDER,...   \n",
       "1                                      VISITED AN ER   \n",
       "2                      NON-SERIOUS INJURIES/ ILLNESS   \n",
       "3                     VISITED A HEALTH CARE PROVIDER   \n",
       "4                      NON-SERIOUS INJURIES/ ILLNESS   \n",
       "\n",
       "                          SYM_One Row Coded Symptoms Age_interval  \n",
       "0  SWELLING FACE, WHEEZING, COUGH, RASH, HOSPITAL...         0-20  \n",
       "1                       NAUSEA, DYSGEUSIA, DIARRHOEA          NaN  \n",
       "2                GASTROINTESTINAL DISORDER, VOMITING          0-3  \n",
       "3    GASTROINTESTINAL DISORDER, PHYSICAL EXAMINATION          NaN  \n",
       "4                                            CHOKING         0-20  "
      ]
     },
     "execution_count": 2,
     "metadata": {},
     "output_type": "execute_result"
    }
   ],
   "source": [
    "data.head()"
   ]
  },
  {
   "cell_type": "code",
   "execution_count": 3,
   "metadata": {
    "collapsed": true
   },
   "outputs": [],
   "source": [
    "# Subset: data with age unit = year\n",
    "import numpy as np\n",
    "year_data = data[data['Age Unit'] == 'Year']\n",
    "\n",
    "#len(year_data)\n",
    "        #\"LIFE THREATENING len(data.index)"
   ]
  },
  {
   "cell_type": "code",
   "execution_count": 4,
   "metadata": {
    "collapsed": false
   },
   "outputs": [
    {
     "data": {
      "text/html": [
       "<div>\n",
       "<style>\n",
       "    .dataframe thead tr:only-child th {\n",
       "        text-align: right;\n",
       "    }\n",
       "\n",
       "    .dataframe thead th {\n",
       "        text-align: left;\n",
       "    }\n",
       "\n",
       "    .dataframe tbody tr th {\n",
       "        vertical-align: top;\n",
       "    }\n",
       "</style>\n",
       "<table border=\"1\" class=\"dataframe\">\n",
       "  <thead>\n",
       "    <tr style=\"text-align: right;\">\n",
       "      <th></th>\n",
       "      <th>Unnamed: 0</th>\n",
       "      <th>RA_Report #</th>\n",
       "      <th>RA_CAERS Created Date</th>\n",
       "      <th>Year</th>\n",
       "      <th>Start_Date</th>\n",
       "      <th>Role</th>\n",
       "      <th>Brand/Product</th>\n",
       "      <th>PRI_FDA Industry Code</th>\n",
       "      <th>Industry</th>\n",
       "      <th>Age</th>\n",
       "      <th>Age Unit</th>\n",
       "      <th>Gender</th>\n",
       "      <th>AEC_One Row Outcomes</th>\n",
       "      <th>SYM_One Row Coded Symptoms</th>\n",
       "      <th>Age_interval</th>\n",
       "    </tr>\n",
       "  </thead>\n",
       "  <tbody>\n",
       "    <tr>\n",
       "      <th>0</th>\n",
       "      <td>0</td>\n",
       "      <td>65325.0</td>\n",
       "      <td>1/1/04</td>\n",
       "      <td>2004.0</td>\n",
       "      <td>8/4/03</td>\n",
       "      <td>Suspect</td>\n",
       "      <td>MIDWEST COUNTRY FAIR CHOCOLATE FLAVORED CHIPS</td>\n",
       "      <td>3</td>\n",
       "      <td>Bakery Prod</td>\n",
       "      <td>2.0</td>\n",
       "      <td>Year</td>\n",
       "      <td>Female</td>\n",
       "      <td>VISITED AN ER, VISITED A HEALTH CARE PROVIDER,...</td>\n",
       "      <td>SWELLING FACE, WHEEZING, COUGH, RASH, HOSPITAL...</td>\n",
       "      <td>0-20</td>\n",
       "    </tr>\n",
       "    <tr>\n",
       "      <th>4</th>\n",
       "      <td>4</td>\n",
       "      <td>65345.0</td>\n",
       "      <td>1/1/04</td>\n",
       "      <td>2004.0</td>\n",
       "      <td>12/21/03</td>\n",
       "      <td>Suspect</td>\n",
       "      <td>FRITO LAY FUNYUNS ONION FLAVOR, ONION RINGS</td>\n",
       "      <td>7</td>\n",
       "      <td>Snack Food Item</td>\n",
       "      <td>10.0</td>\n",
       "      <td>Year</td>\n",
       "      <td>Male</td>\n",
       "      <td>NON-SERIOUS INJURIES/ ILLNESS</td>\n",
       "      <td>CHOKING</td>\n",
       "      <td>0-20</td>\n",
       "    </tr>\n",
       "    <tr>\n",
       "      <th>8</th>\n",
       "      <td>8</td>\n",
       "      <td>65354.0</td>\n",
       "      <td>1/2/04</td>\n",
       "      <td>2004.0</td>\n",
       "      <td>NaN</td>\n",
       "      <td>Suspect</td>\n",
       "      <td>YOHIMBE</td>\n",
       "      <td>54</td>\n",
       "      <td>Unconventional_food</td>\n",
       "      <td>66.0</td>\n",
       "      <td>Year</td>\n",
       "      <td>Male</td>\n",
       "      <td>REQ. INTERVENTION TO PRVNT PERM. IMPRMNT.</td>\n",
       "      <td>BLOOD PRESSURE INCREASED</td>\n",
       "      <td>61-80</td>\n",
       "    </tr>\n",
       "    <tr>\n",
       "      <th>15</th>\n",
       "      <td>15</td>\n",
       "      <td>65399.0</td>\n",
       "      <td>1/5/04</td>\n",
       "      <td>2004.0</td>\n",
       "      <td>11/22/03</td>\n",
       "      <td>Suspect</td>\n",
       "      <td>METOBOLITE 356</td>\n",
       "      <td>54</td>\n",
       "      <td>Unconventional_food</td>\n",
       "      <td>51.0</td>\n",
       "      <td>Year</td>\n",
       "      <td>Male</td>\n",
       "      <td>DEATH</td>\n",
       "      <td>COMPLETED SUICIDE, STRESS SYMPTOMS, DEATH</td>\n",
       "      <td>41-60</td>\n",
       "    </tr>\n",
       "    <tr>\n",
       "      <th>16</th>\n",
       "      <td>16</td>\n",
       "      <td>65400.0</td>\n",
       "      <td>1/5/04</td>\n",
       "      <td>2004.0</td>\n",
       "      <td>9/5/01</td>\n",
       "      <td>Suspect</td>\n",
       "      <td>METABOLIFE</td>\n",
       "      <td>54</td>\n",
       "      <td>Unconventional_food</td>\n",
       "      <td>45.0</td>\n",
       "      <td>Year</td>\n",
       "      <td>Female</td>\n",
       "      <td>DEATH</td>\n",
       "      <td>DEATH, MITRAL VALVE INCOMPETENCE</td>\n",
       "      <td>41-60</td>\n",
       "    </tr>\n",
       "  </tbody>\n",
       "</table>\n",
       "</div>"
      ],
      "text/plain": [
       "    Unnamed: 0  RA_Report # RA_CAERS Created Date    Year Start_Date     Role  \\\n",
       "0            0      65325.0                1/1/04  2004.0     8/4/03  Suspect   \n",
       "4            4      65345.0                1/1/04  2004.0   12/21/03  Suspect   \n",
       "8            8      65354.0                1/2/04  2004.0        NaN  Suspect   \n",
       "15          15      65399.0                1/5/04  2004.0   11/22/03  Suspect   \n",
       "16          16      65400.0                1/5/04  2004.0     9/5/01  Suspect   \n",
       "\n",
       "                                    Brand/Product PRI_FDA Industry Code  \\\n",
       "0   MIDWEST COUNTRY FAIR CHOCOLATE FLAVORED CHIPS                     3   \n",
       "4     FRITO LAY FUNYUNS ONION FLAVOR, ONION RINGS                     7   \n",
       "8                                         YOHIMBE                    54   \n",
       "15                                 METOBOLITE 356                    54   \n",
       "16                                     METABOLIFE                    54   \n",
       "\n",
       "               Industry   Age Age Unit  Gender  \\\n",
       "0           Bakery Prod   2.0     Year  Female   \n",
       "4       Snack Food Item  10.0     Year    Male   \n",
       "8   Unconventional_food  66.0     Year    Male   \n",
       "15  Unconventional_food  51.0     Year    Male   \n",
       "16  Unconventional_food  45.0     Year  Female   \n",
       "\n",
       "                                 AEC_One Row Outcomes  \\\n",
       "0   VISITED AN ER, VISITED A HEALTH CARE PROVIDER,...   \n",
       "4                       NON-SERIOUS INJURIES/ ILLNESS   \n",
       "8           REQ. INTERVENTION TO PRVNT PERM. IMPRMNT.   \n",
       "15                                              DEATH   \n",
       "16                                              DEATH   \n",
       "\n",
       "                           SYM_One Row Coded Symptoms Age_interval  \n",
       "0   SWELLING FACE, WHEEZING, COUGH, RASH, HOSPITAL...         0-20  \n",
       "4                                             CHOKING         0-20  \n",
       "8                            BLOOD PRESSURE INCREASED        61-80  \n",
       "15          COMPLETED SUICIDE, STRESS SYMPTOMS, DEATH        41-60  \n",
       "16                   DEATH, MITRAL VALVE INCOMPETENCE        41-60  "
      ]
     },
     "execution_count": 4,
     "metadata": {},
     "output_type": "execute_result"
    }
   ],
   "source": [
    "year_data.head()"
   ]
  },
  {
   "cell_type": "code",
   "execution_count": 5,
   "metadata": {
    "collapsed": true
   },
   "outputs": [],
   "source": [
    "df = year_data"
   ]
  },
  {
   "cell_type": "code",
   "execution_count": 14,
   "metadata": {
    "collapsed": false
   },
   "outputs": [],
   "source": [
    "single_outcome = [None] * len(df)\n",
    "for i, item in enumerate(df['AEC_One Row Outcomes']):\n",
    "    single_outcome[i] = item.split(',')[0]"
   ]
  },
  {
   "cell_type": "code",
   "execution_count": 15,
   "metadata": {
    "collapsed": false
   },
   "outputs": [
    {
     "data": {
      "text/plain": [
       "47309"
      ]
     },
     "execution_count": 15,
     "metadata": {},
     "output_type": "execute_result"
    }
   ],
   "source": [
    "len(single_outcome)"
   ]
  },
  {
   "cell_type": "code",
   "execution_count": 18,
   "metadata": {
    "collapsed": false
   },
   "outputs": [
    {
     "data": {
      "text/plain": [
       "['VISITED AN ER',\n",
       " 'NON-SERIOUS INJURIES/ ILLNESS',\n",
       " 'REQ. INTERVENTION TO PRVNT PERM. IMPRMNT.',\n",
       " 'DEATH',\n",
       " 'DEATH']"
      ]
     },
     "execution_count": 18,
     "metadata": {},
     "output_type": "execute_result"
    }
   ],
   "source": [
    "single_outcome[:5]"
   ]
  },
  {
   "cell_type": "code",
   "execution_count": 19,
   "metadata": {
    "collapsed": false
   },
   "outputs": [
    {
     "name": "stderr",
     "output_type": "stream",
     "text": [
      "/opt/conda/lib/python2.7/site-packages/ipykernel_launcher.py:1: SettingWithCopyWarning: \n",
      "A value is trying to be set on a copy of a slice from a DataFrame.\n",
      "Try using .loc[row_indexer,col_indexer] = value instead\n",
      "\n",
      "See the caveats in the documentation: http://pandas.pydata.org/pandas-docs/stable/indexing.html#indexing-view-versus-copy\n",
      "  \"\"\"Entry point for launching an IPython kernel.\n"
     ]
    }
   ],
   "source": [
    "df['outcome'] = single_outcome"
   ]
  },
  {
   "cell_type": "code",
   "execution_count": null,
   "metadata": {
    "collapsed": true
   },
   "outputs": [],
   "source": [
    "# multiNB: role, industry, age, gender --> outcome\n"
   ]
  },
  {
   "cell_type": "code",
   "execution_count": 23,
   "metadata": {
    "collapsed": false
   },
   "outputs": [],
   "source": [
    "# Role \n",
    "from sklearn import preprocessing\n",
    "le = preprocessing.LabelEncoder()\n",
    "Role = le.fit_transform(df['Role'])"
   ]
  },
  {
   "cell_type": "code",
   "execution_count": 48,
   "metadata": {
    "collapsed": false
   },
   "outputs": [],
   "source": [
    "# Industry\n",
    "le = preprocessing.LabelEncoder()\n",
    "Industry_encode = le.fit_transform(df['Industry'])\n",
    "# from sklearn.preprocessing import OneHotEncoder\n",
    "# enc = OneHotEncoder()\n",
    "# Industry_encode = enc.fit_transform()"
   ]
  },
  {
   "cell_type": "code",
   "execution_count": 49,
   "metadata": {
    "collapsed": false,
    "scrolled": true
   },
   "outputs": [
    {
     "data": {
      "text/plain": [
       "array([ 2, 30, 34, ..., 29, 37, 10])"
      ]
     },
     "execution_count": 49,
     "metadata": {},
     "output_type": "execute_result"
    }
   ],
   "source": [
    "# Industry: ordered transform\n",
    "Industry_encode"
   ]
  },
  {
   "cell_type": "code",
   "execution_count": 36,
   "metadata": {
    "collapsed": true
   },
   "outputs": [],
   "source": [
    "# Gender\n",
    "le = preprocessing.LabelEncoder()\n",
    "Gender_encode = le.fit_transform(df['Gender'])"
   ]
  },
  {
   "cell_type": "code",
   "execution_count": 38,
   "metadata": {
    "collapsed": true
   },
   "outputs": [],
   "source": [
    "# Outcome\n",
    "le = preprocessing.LabelEncoder()\n",
    "Outcome_encode = le.fit_transform(df['outcome'])"
   ]
  },
  {
   "cell_type": "code",
   "execution_count": 51,
   "metadata": {
    "collapsed": false
   },
   "outputs": [],
   "source": [
    "X = pd.DataFrame({'Role': Role, 'Industry_encode': Industry_encode, 'Gender': Gender_encode})\n",
    "                  #, 'Outcome': Outcome_encode})"
   ]
  },
  {
   "cell_type": "code",
   "execution_count": 53,
   "metadata": {
    "collapsed": true
   },
   "outputs": [],
   "source": [
    "y = Outcome_encode"
   ]
  },
  {
   "cell_type": "code",
   "execution_count": 54,
   "metadata": {
    "collapsed": false
   },
   "outputs": [],
   "source": [
    "# stratified sampling train and test set\n",
    "from sklearn.model_selection import train_test_split\n",
    "X_train, X_test, y_train, y_test = train_test_split(X, y, test_size=0.25, random_state = 1, stratify = y)"
   ]
  },
  {
   "cell_type": "code",
   "execution_count": 61,
   "metadata": {
    "collapsed": false
   },
   "outputs": [
    {
     "data": {
      "text/plain": [
       "MultinomialNB(alpha=1.0, class_prior=None, fit_prior=True)"
      ]
     },
     "execution_count": 61,
     "metadata": {},
     "output_type": "execute_result"
    }
   ],
   "source": [
    "from sklearn.naive_bayes import MultinomialNB\n",
    "clf = MultinomialNB()\n",
    "clf.fit(X_train, y_train)"
   ]
  },
  {
   "cell_type": "code",
   "execution_count": 63,
   "metadata": {
    "collapsed": false
   },
   "outputs": [
    {
     "data": {
      "text/plain": [
       "array([8, 8, 8, 8, 5, 8, 8, 8, 8, 8, 5, 8, 5, 8, 5, 8, 8, 8, 8, 8, 8, 5, 8,\n",
       "       5, 8, 8, 8, 8, 8, 8, 8, 5, 8, 8, 8, 5, 8, 5, 8, 8, 8, 8, 8, 8, 8, 5,\n",
       "       5, 5, 8, 5, 8, 5, 8, 8, 8, 8, 8, 8, 8, 8, 5, 8, 8, 8, 8, 8, 8, 8, 8,\n",
       "       8, 8, 8, 8, 8, 8, 8, 8, 8, 8, 8, 8, 8, 5, 8, 8, 8, 8, 8, 8, 8, 8, 8,\n",
       "       8, 8, 8, 8, 8, 8, 8, 8])"
      ]
     },
     "execution_count": 63,
     "metadata": {},
     "output_type": "execute_result"
    }
   ],
   "source": [
    "clf.predict(X_test)[:100]"
   ]
  },
  {
   "cell_type": "code",
   "execution_count": 65,
   "metadata": {
    "collapsed": false
   },
   "outputs": [
    {
     "data": {
      "text/plain": [
       "array([ 9,  8,  8, 11, 11,  1,  3,  8,  8,  3,  8,  8,  5,  8,  5,  8,  8,\n",
       "        8,  5, 12,  5,  5,  8,  8, 12, 11, 12,  3, 10,  5, 10,  5,  8,  2,\n",
       "        3,  8, 12,  5, 11,  3,  8,  8,  3, 11,  8,  5,  2,  5,  3, 12,  8,\n",
       "        5,  3,  8,  3, 11,  3, 11,  1,  8,  5,  5,  3,  5,  8,  1,  2, 12,\n",
       "        8, 10, 10, 11,  3,  8,  3,  8,  3,  8,  3,  4,  3,  8,  5,  8,  8,\n",
       "        8, 11, 12,  3, 12,  4,  8, 12,  8,  5,  8,  2,  8,  4, 12])"
      ]
     },
     "execution_count": 65,
     "metadata": {},
     "output_type": "execute_result"
    }
   ],
   "source": [
    "y_test[:100]"
   ]
  },
  {
   "cell_type": "code",
   "execution_count": 86,
   "metadata": {
    "collapsed": false
   },
   "outputs": [],
   "source": [
    "from sklearn.model_selection import cross_val_score\n",
    "scores_MNB = cross_val_score(clf, X_train, y_train, cv=10, scoring = 'precision_macro')"
   ]
  },
  {
   "cell_type": "code",
   "execution_count": 87,
   "metadata": {
    "collapsed": false
   },
   "outputs": [
    {
     "data": {
      "text/plain": [
       "array([ 0.05968794,  0.05808261,  0.05883685,  0.05929271,  0.05667705,\n",
       "        0.0583174 ,  0.06068169,  0.05943507,  0.06120349,  0.06013508])"
      ]
     },
     "execution_count": 87,
     "metadata": {},
     "output_type": "execute_result"
    }
   ],
   "source": [
    "scores_MNB"
   ]
  },
  {
   "cell_type": "code",
   "execution_count": 83,
   "metadata": {
    "collapsed": false
   },
   "outputs": [
    {
     "name": "stdout",
     "output_type": "stream",
     "text": [
      "(0.19010622796589507, 0.37825498816367942, 0.37825498816367942, 0.2470439436147665)\n"
     ]
    }
   ],
   "source": [
    "predict = clf.predict(X_test)\n",
    "from sklearn import metrics\n",
    "precision1 = metrics.precision_score(y_test, predict, average = 'weighted')\n",
    "precision2 = metrics.precision_score(y_test, predict, average = 'micro')\n",
    "\n",
    "recall = metrics.recall_score(y_test, predict, average = 'weighted')\n",
    "f1 = metrics.f1_score(y_test, predict, average = 'weighted')\n",
    "print(precision1, precision2, recall, f1)"
   ]
  },
  {
   "cell_type": "code",
   "execution_count": 72,
   "metadata": {
    "collapsed": false
   },
   "outputs": [],
   "source": [
    "import pickle\n",
    "with open('X.pickle', 'w') as file:\n",
    "    pickle.dump(X, file)\n",
    "\n",
    "with open('Y.pickle', 'w') as file:\n",
    "    pickle.dump(y, file)\n",
    "    \n",
    "\n",
    "# alternative\n",
    "# f = open('gradesdict.p', 'w')   # Pickle file is newly created where foo1.py is\n",
    "# pickle.dump(grades, f)          # dump data to f\n",
    "# f.close()                 "
   ]
  },
  {
   "cell_type": "code",
   "execution_count": null,
   "metadata": {
    "collapsed": true
   },
   "outputs": [],
   "source": [
    "with open('df.pickle', 'r') as file:\n",
    "    df = pickle.load(file)\n",
    "    "
   ]
  },
  {
   "cell_type": "code",
   "execution_count": null,
   "metadata": {
    "collapsed": true
   },
   "outputs": [],
   "source": []
  }
 ],
 "metadata": {
  "kernelspec": {
   "display_name": "Python 2",
   "language": "python",
   "name": "python2"
  },
  "language_info": {
   "codemirror_mode": {
    "name": "ipython",
    "version": 2
   },
   "file_extension": ".py",
   "mimetype": "text/x-python",
   "name": "python",
   "nbconvert_exporter": "python",
   "pygments_lexer": "ipython2",
   "version": "2.7.13"
  }
 },
 "nbformat": 4,
 "nbformat_minor": 2
}
