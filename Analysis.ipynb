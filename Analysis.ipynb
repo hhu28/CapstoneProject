{
 "cells": [
  {
   "cell_type": "code",
   "execution_count": 5,
   "metadata": {
    "collapsed": false,
    "deletable": true,
    "editable": true
   },
   "outputs": [
    {
     "name": "stderr",
     "output_type": "stream",
     "text": [
      "/Users/huilin/anaconda/lib/python2.7/site-packages/IPython/core/interactiveshell.py:2902: DtypeWarning: Columns (7) have mixed types. Specify dtype option on import or set low_memory=False.\n",
      "  interactivity=interactivity, compiler=compiler, result=result)\n"
     ]
    }
   ],
   "source": [
    "# read in clean data first\n",
    "import pandas as pd\n",
    "data = pd.read_csv('clean_data.csv')"
   ]
  },
  {
   "cell_type": "code",
   "execution_count": 6,
   "metadata": {
    "collapsed": false,
    "deletable": true,
    "editable": true
   },
   "outputs": [
    {
     "data": {
      "text/html": [
       "<div>\n",
       "<table border=\"1\" class=\"dataframe\">\n",
       "  <thead>\n",
       "    <tr style=\"text-align: right;\">\n",
       "      <th></th>\n",
       "      <th>Unnamed: 0</th>\n",
       "      <th>RA_Report #</th>\n",
       "      <th>RA_CAERS Created Date</th>\n",
       "      <th>Year</th>\n",
       "      <th>Start_Date</th>\n",
       "      <th>Role</th>\n",
       "      <th>Brand/Product</th>\n",
       "      <th>PRI_FDA Industry Code</th>\n",
       "      <th>Industry</th>\n",
       "      <th>Age</th>\n",
       "      <th>Age Unit</th>\n",
       "      <th>Gender</th>\n",
       "      <th>AEC_One Row Outcomes</th>\n",
       "      <th>SYM_One Row Coded Symptoms</th>\n",
       "      <th>Age_interval</th>\n",
       "    </tr>\n",
       "  </thead>\n",
       "  <tbody>\n",
       "    <tr>\n",
       "      <th>0</th>\n",
       "      <td>0</td>\n",
       "      <td>65325.0</td>\n",
       "      <td>1/1/04</td>\n",
       "      <td>2004.0</td>\n",
       "      <td>8/4/03</td>\n",
       "      <td>Suspect</td>\n",
       "      <td>MIDWEST COUNTRY FAIR CHOCOLATE FLAVORED CHIPS</td>\n",
       "      <td>3</td>\n",
       "      <td>Bakery Prod</td>\n",
       "      <td>2.0</td>\n",
       "      <td>Year</td>\n",
       "      <td>Female</td>\n",
       "      <td>VISITED AN ER, VISITED A HEALTH CARE PROVIDER,...</td>\n",
       "      <td>SWELLING FACE, WHEEZING, COUGH, RASH, HOSPITAL...</td>\n",
       "      <td>0-20</td>\n",
       "    </tr>\n",
       "    <tr>\n",
       "      <th>1</th>\n",
       "      <td>1</td>\n",
       "      <td>65333.0</td>\n",
       "      <td>1/1/04</td>\n",
       "      <td>2004.0</td>\n",
       "      <td>NaN</td>\n",
       "      <td>Suspect</td>\n",
       "      <td>KROGER CLASSIC CREAM-DE-MINT CANDY MINT CHIP I...</td>\n",
       "      <td>13</td>\n",
       "      <td>Ice Cream Prod</td>\n",
       "      <td>NaN</td>\n",
       "      <td>NaN</td>\n",
       "      <td>Female</td>\n",
       "      <td>VISITED AN ER</td>\n",
       "      <td>NAUSEA, DYSGEUSIA, DIARRHOEA</td>\n",
       "      <td>NaN</td>\n",
       "    </tr>\n",
       "    <tr>\n",
       "      <th>2</th>\n",
       "      <td>2</td>\n",
       "      <td>65335.0</td>\n",
       "      <td>1/1/04</td>\n",
       "      <td>2004.0</td>\n",
       "      <td>11/24/03</td>\n",
       "      <td>Suspect</td>\n",
       "      <td>ENFAMIL LIPIL BABY FORMULA</td>\n",
       "      <td>40</td>\n",
       "      <td>Baby Food Prod</td>\n",
       "      <td>3.0</td>\n",
       "      <td>Month</td>\n",
       "      <td>NaN</td>\n",
       "      <td>NON-SERIOUS INJURIES/ ILLNESS</td>\n",
       "      <td>GASTROINTESTINAL DISORDER, VOMITING</td>\n",
       "      <td>0-3</td>\n",
       "    </tr>\n",
       "    <tr>\n",
       "      <th>3</th>\n",
       "      <td>3</td>\n",
       "      <td>65336.0</td>\n",
       "      <td>1/1/04</td>\n",
       "      <td>2004.0</td>\n",
       "      <td>NaN</td>\n",
       "      <td>Suspect</td>\n",
       "      <td>ENFIMIL LIPIL BABY FORMULA</td>\n",
       "      <td>40</td>\n",
       "      <td>Baby Food Prod</td>\n",
       "      <td>NaN</td>\n",
       "      <td>NaN</td>\n",
       "      <td>NaN</td>\n",
       "      <td>VISITED A HEALTH CARE PROVIDER</td>\n",
       "      <td>GASTROINTESTINAL DISORDER, PHYSICAL EXAMINATION</td>\n",
       "      <td>NaN</td>\n",
       "    </tr>\n",
       "    <tr>\n",
       "      <th>4</th>\n",
       "      <td>4</td>\n",
       "      <td>65345.0</td>\n",
       "      <td>1/1/04</td>\n",
       "      <td>2004.0</td>\n",
       "      <td>12/21/03</td>\n",
       "      <td>Suspect</td>\n",
       "      <td>FRITO LAY FUNYUNS ONION FLAVOR, ONION RINGS</td>\n",
       "      <td>7</td>\n",
       "      <td>Snack Food Item</td>\n",
       "      <td>10.0</td>\n",
       "      <td>Year</td>\n",
       "      <td>Male</td>\n",
       "      <td>NON-SERIOUS INJURIES/ ILLNESS</td>\n",
       "      <td>CHOKING</td>\n",
       "      <td>0-20</td>\n",
       "    </tr>\n",
       "    <tr>\n",
       "      <th>5</th>\n",
       "      <td>5</td>\n",
       "      <td>65350.0</td>\n",
       "      <td>1/1/04</td>\n",
       "      <td>2004.0</td>\n",
       "      <td>NaN</td>\n",
       "      <td>Suspect</td>\n",
       "      <td>GRAPE</td>\n",
       "      <td>20</td>\n",
       "      <td>Fruit</td>\n",
       "      <td>NaN</td>\n",
       "      <td>NaN</td>\n",
       "      <td>NaN</td>\n",
       "      <td>DEATH</td>\n",
       "      <td>DEATH, CHOKING</td>\n",
       "      <td>NaN</td>\n",
       "    </tr>\n",
       "    <tr>\n",
       "      <th>6</th>\n",
       "      <td>6</td>\n",
       "      <td>65353.0</td>\n",
       "      <td>1/2/04</td>\n",
       "      <td>2004.0</td>\n",
       "      <td>12/1/03</td>\n",
       "      <td>Suspect</td>\n",
       "      <td>HERBALIFE RELAX NOW</td>\n",
       "      <td>54</td>\n",
       "      <td>Unconventional_food</td>\n",
       "      <td>NaN</td>\n",
       "      <td>NaN</td>\n",
       "      <td>Female</td>\n",
       "      <td>VISITED A HEALTH CARE PROVIDER</td>\n",
       "      <td>PARANOIA, PHYSICAL EXAMINATION, DELUSION</td>\n",
       "      <td>NaN</td>\n",
       "    </tr>\n",
       "    <tr>\n",
       "      <th>7</th>\n",
       "      <td>7</td>\n",
       "      <td>65353.0</td>\n",
       "      <td>1/2/04</td>\n",
       "      <td>2004.0</td>\n",
       "      <td>12/1/03</td>\n",
       "      <td>Suspect</td>\n",
       "      <td>HERBALIFE TOTAL CONTROL</td>\n",
       "      <td>54</td>\n",
       "      <td>Unconventional_food</td>\n",
       "      <td>NaN</td>\n",
       "      <td>NaN</td>\n",
       "      <td>Female</td>\n",
       "      <td>VISITED A HEALTH CARE PROVIDER</td>\n",
       "      <td>PARANOIA, PHYSICAL EXAMINATION, DELUSION</td>\n",
       "      <td>NaN</td>\n",
       "    </tr>\n",
       "    <tr>\n",
       "      <th>8</th>\n",
       "      <td>8</td>\n",
       "      <td>65354.0</td>\n",
       "      <td>1/2/04</td>\n",
       "      <td>2004.0</td>\n",
       "      <td>NaN</td>\n",
       "      <td>Suspect</td>\n",
       "      <td>YOHIMBE</td>\n",
       "      <td>54</td>\n",
       "      <td>Unconventional_food</td>\n",
       "      <td>66.0</td>\n",
       "      <td>Year</td>\n",
       "      <td>Male</td>\n",
       "      <td>REQ. INTERVENTION TO PRVNT PERM. IMPRMNT.</td>\n",
       "      <td>BLOOD PRESSURE INCREASED</td>\n",
       "      <td>61-80</td>\n",
       "    </tr>\n",
       "    <tr>\n",
       "      <th>9</th>\n",
       "      <td>9</td>\n",
       "      <td>65355.0</td>\n",
       "      <td>1/2/04</td>\n",
       "      <td>2004.0</td>\n",
       "      <td>10/27/03</td>\n",
       "      <td>Suspect</td>\n",
       "      <td>CAL-C PEACH TROPIC ENRICHED BEVERAGE BLEND</td>\n",
       "      <td>29</td>\n",
       "      <td>Soft Drink</td>\n",
       "      <td>NaN</td>\n",
       "      <td>NaN</td>\n",
       "      <td>Male</td>\n",
       "      <td>NON-SERIOUS INJURIES/ ILLNESS</td>\n",
       "      <td>FLUSHING, MALAISE, RASH, ABDOMINAL PAIN, DIARR...</td>\n",
       "      <td>NaN</td>\n",
       "    </tr>\n",
       "    <tr>\n",
       "      <th>10</th>\n",
       "      <td>10</td>\n",
       "      <td>65356.0</td>\n",
       "      <td>1/2/04</td>\n",
       "      <td>2004.0</td>\n",
       "      <td>10/27/03</td>\n",
       "      <td>Suspect</td>\n",
       "      <td>CAL-C PEACH TROPIC ENRICHED BEVERAGE BLEND</td>\n",
       "      <td>29</td>\n",
       "      <td>Soft Drink</td>\n",
       "      <td>NaN</td>\n",
       "      <td>NaN</td>\n",
       "      <td>NaN</td>\n",
       "      <td>NON-SERIOUS INJURIES/ ILLNESS</td>\n",
       "      <td>LOOSE STOOLS, ABDOMINAL PAIN UPPER, VOMITING, ...</td>\n",
       "      <td>NaN</td>\n",
       "    </tr>\n",
       "    <tr>\n",
       "      <th>11</th>\n",
       "      <td>11</td>\n",
       "      <td>65357.0</td>\n",
       "      <td>1/2/04</td>\n",
       "      <td>2004.0</td>\n",
       "      <td>10/27/03</td>\n",
       "      <td>Suspect</td>\n",
       "      <td>CAL-C PEACH TROPIC ENRICHED BEVERAGE BLEND</td>\n",
       "      <td>29</td>\n",
       "      <td>Soft Drink</td>\n",
       "      <td>NaN</td>\n",
       "      <td>NaN</td>\n",
       "      <td>NaN</td>\n",
       "      <td>NON-SERIOUS INJURIES/ ILLNESS</td>\n",
       "      <td>RASH, LOOSE STOOLS, ABDOMINAL PAIN UPPER, MALA...</td>\n",
       "      <td>NaN</td>\n",
       "    </tr>\n",
       "    <tr>\n",
       "      <th>12</th>\n",
       "      <td>12</td>\n",
       "      <td>65379.0</td>\n",
       "      <td>1/3/04</td>\n",
       "      <td>2004.0</td>\n",
       "      <td>11/5/03</td>\n",
       "      <td>Suspect</td>\n",
       "      <td>I CONTACT LIP-INK (SEMI-PERMANENT)</td>\n",
       "      <td>53</td>\n",
       "      <td>Cosmetics</td>\n",
       "      <td>NaN</td>\n",
       "      <td>NaN</td>\n",
       "      <td>Female</td>\n",
       "      <td>NON-SERIOUS INJURIES/ ILLNESS</td>\n",
       "      <td>SWELLING FACE, PARAESTHESIA ORAL</td>\n",
       "      <td>NaN</td>\n",
       "    </tr>\n",
       "    <tr>\n",
       "      <th>13</th>\n",
       "      <td>13</td>\n",
       "      <td>65387.0</td>\n",
       "      <td>1/3/04</td>\n",
       "      <td>2004.0</td>\n",
       "      <td>NaN</td>\n",
       "      <td>Suspect</td>\n",
       "      <td>H.P. HOOD HALF AND HALF</td>\n",
       "      <td>9</td>\n",
       "      <td>Milk</td>\n",
       "      <td>NaN</td>\n",
       "      <td>NaN</td>\n",
       "      <td>Female</td>\n",
       "      <td>NON-SERIOUS INJURIES/ ILLNESS</td>\n",
       "      <td>PHARYNGITIS</td>\n",
       "      <td>NaN</td>\n",
       "    </tr>\n",
       "    <tr>\n",
       "      <th>14</th>\n",
       "      <td>14</td>\n",
       "      <td>65388.0</td>\n",
       "      <td>1/3/04</td>\n",
       "      <td>2004.0</td>\n",
       "      <td>12/30/03</td>\n",
       "      <td>Suspect</td>\n",
       "      <td>LACTAID REDUCED FAT (2%) MILK; 100% LACTOSE FREE</td>\n",
       "      <td>9</td>\n",
       "      <td>Milk</td>\n",
       "      <td>NaN</td>\n",
       "      <td>NaN</td>\n",
       "      <td>Male</td>\n",
       "      <td>NON-SERIOUS INJURIES/ ILLNESS</td>\n",
       "      <td>VOMITING</td>\n",
       "      <td>NaN</td>\n",
       "    </tr>\n",
       "    <tr>\n",
       "      <th>15</th>\n",
       "      <td>15</td>\n",
       "      <td>65399.0</td>\n",
       "      <td>1/5/04</td>\n",
       "      <td>2004.0</td>\n",
       "      <td>11/22/03</td>\n",
       "      <td>Suspect</td>\n",
       "      <td>METOBOLITE 356</td>\n",
       "      <td>54</td>\n",
       "      <td>Unconventional_food</td>\n",
       "      <td>51.0</td>\n",
       "      <td>Year</td>\n",
       "      <td>Male</td>\n",
       "      <td>DEATH</td>\n",
       "      <td>COMPLETED SUICIDE, STRESS SYMPTOMS, DEATH</td>\n",
       "      <td>41-60</td>\n",
       "    </tr>\n",
       "    <tr>\n",
       "      <th>16</th>\n",
       "      <td>16</td>\n",
       "      <td>65400.0</td>\n",
       "      <td>1/5/04</td>\n",
       "      <td>2004.0</td>\n",
       "      <td>9/5/01</td>\n",
       "      <td>Suspect</td>\n",
       "      <td>METABOLIFE</td>\n",
       "      <td>54</td>\n",
       "      <td>Unconventional_food</td>\n",
       "      <td>45.0</td>\n",
       "      <td>Year</td>\n",
       "      <td>Female</td>\n",
       "      <td>DEATH</td>\n",
       "      <td>DEATH, MITRAL VALVE INCOMPETENCE</td>\n",
       "      <td>41-60</td>\n",
       "    </tr>\n",
       "    <tr>\n",
       "      <th>17</th>\n",
       "      <td>17</td>\n",
       "      <td>65403.0</td>\n",
       "      <td>1/5/04</td>\n",
       "      <td>2004.0</td>\n",
       "      <td>3/4/03</td>\n",
       "      <td>Suspect</td>\n",
       "      <td>METABOLIFE METABOLIFE</td>\n",
       "      <td>54</td>\n",
       "      <td>Unconventional_food</td>\n",
       "      <td>54.0</td>\n",
       "      <td>Year</td>\n",
       "      <td>Female</td>\n",
       "      <td>LIFE THREATENING, HOSPITALIZATION</td>\n",
       "      <td>CEREBROVASCULAR ACCIDENT</td>\n",
       "      <td>41-60</td>\n",
       "    </tr>\n",
       "    <tr>\n",
       "      <th>18</th>\n",
       "      <td>18</td>\n",
       "      <td>65404.0</td>\n",
       "      <td>1/5/04</td>\n",
       "      <td>2004.0</td>\n",
       "      <td>NaN</td>\n",
       "      <td>Suspect</td>\n",
       "      <td>ENIVA MINERALS FOR LIFE-SILVER</td>\n",
       "      <td>54</td>\n",
       "      <td>Unconventional_food</td>\n",
       "      <td>16.0</td>\n",
       "      <td>Year</td>\n",
       "      <td>Male</td>\n",
       "      <td>VISITED A HEALTH CARE PROVIDER</td>\n",
       "      <td>MUCOSAL DISCOLOURATION, SKIN DISCOLOURATION</td>\n",
       "      <td>0-20</td>\n",
       "    </tr>\n",
       "    <tr>\n",
       "      <th>19</th>\n",
       "      <td>19</td>\n",
       "      <td>65416.0</td>\n",
       "      <td>1/6/04</td>\n",
       "      <td>2004.0</td>\n",
       "      <td>11/15/03</td>\n",
       "      <td>Suspect</td>\n",
       "      <td>AVLIMIL</td>\n",
       "      <td>54</td>\n",
       "      <td>Unconventional_food</td>\n",
       "      <td>36.0</td>\n",
       "      <td>Year</td>\n",
       "      <td>Female</td>\n",
       "      <td>VISITED A HEALTH CARE PROVIDER</td>\n",
       "      <td>HEART RATE INCREASED, DIZZINESS, BLOOD PRESSUR...</td>\n",
       "      <td>21-40</td>\n",
       "    </tr>\n",
       "    <tr>\n",
       "      <th>20</th>\n",
       "      <td>20</td>\n",
       "      <td>65419.0</td>\n",
       "      <td>1/6/04</td>\n",
       "      <td>2004.0</td>\n",
       "      <td>NaN</td>\n",
       "      <td>Suspect</td>\n",
       "      <td>AVLIMIL</td>\n",
       "      <td>54</td>\n",
       "      <td>Unconventional_food</td>\n",
       "      <td>48.0</td>\n",
       "      <td>Year</td>\n",
       "      <td>Female</td>\n",
       "      <td>NON-SERIOUS INJURIES/ ILLNESS</td>\n",
       "      <td>PAIN IN EXTREMITY</td>\n",
       "      <td>41-60</td>\n",
       "    </tr>\n",
       "    <tr>\n",
       "      <th>21</th>\n",
       "      <td>21</td>\n",
       "      <td>65420.0</td>\n",
       "      <td>1/6/04</td>\n",
       "      <td>2004.0</td>\n",
       "      <td>11/1/03</td>\n",
       "      <td>Suspect</td>\n",
       "      <td>COFFEE</td>\n",
       "      <td>31</td>\n",
       "      <td>Coffee</td>\n",
       "      <td>33.0</td>\n",
       "      <td>Year</td>\n",
       "      <td>Male</td>\n",
       "      <td>LIFE THREATENING, DISABILITY</td>\n",
       "      <td>PARAESTHESIA, PHYSICAL EXAMINATION, HOSPITALIS...</td>\n",
       "      <td>21-40</td>\n",
       "    </tr>\n",
       "    <tr>\n",
       "      <th>22</th>\n",
       "      <td>22</td>\n",
       "      <td>65420.0</td>\n",
       "      <td>1/6/04</td>\n",
       "      <td>2004.0</td>\n",
       "      <td>11/1/03</td>\n",
       "      <td>Suspect</td>\n",
       "      <td>DIET CAFFEINE FREE COKE</td>\n",
       "      <td>29</td>\n",
       "      <td>Soft Drink</td>\n",
       "      <td>33.0</td>\n",
       "      <td>Year</td>\n",
       "      <td>Male</td>\n",
       "      <td>LIFE THREATENING, DISABILITY</td>\n",
       "      <td>PARAESTHESIA, PHYSICAL EXAMINATION, HOSPITALIS...</td>\n",
       "      <td>21-40</td>\n",
       "    </tr>\n",
       "    <tr>\n",
       "      <th>23</th>\n",
       "      <td>23</td>\n",
       "      <td>65420.0</td>\n",
       "      <td>1/6/04</td>\n",
       "      <td>2004.0</td>\n",
       "      <td>11/1/03</td>\n",
       "      <td>Suspect</td>\n",
       "      <td>DIET COKE</td>\n",
       "      <td>29</td>\n",
       "      <td>Soft Drink</td>\n",
       "      <td>33.0</td>\n",
       "      <td>Year</td>\n",
       "      <td>Male</td>\n",
       "      <td>LIFE THREATENING, DISABILITY</td>\n",
       "      <td>PARAESTHESIA, PHYSICAL EXAMINATION, HOSPITALIS...</td>\n",
       "      <td>21-40</td>\n",
       "    </tr>\n",
       "    <tr>\n",
       "      <th>24</th>\n",
       "      <td>24</td>\n",
       "      <td>65420.0</td>\n",
       "      <td>1/6/04</td>\n",
       "      <td>2004.0</td>\n",
       "      <td>11/1/03</td>\n",
       "      <td>Suspect</td>\n",
       "      <td>DIET PEPSI</td>\n",
       "      <td>29</td>\n",
       "      <td>Soft Drink</td>\n",
       "      <td>33.0</td>\n",
       "      <td>Year</td>\n",
       "      <td>Male</td>\n",
       "      <td>LIFE THREATENING, DISABILITY</td>\n",
       "      <td>PARAESTHESIA, PHYSICAL EXAMINATION, HOSPITALIS...</td>\n",
       "      <td>21-40</td>\n",
       "    </tr>\n",
       "    <tr>\n",
       "      <th>25</th>\n",
       "      <td>25</td>\n",
       "      <td>65420.0</td>\n",
       "      <td>1/6/04</td>\n",
       "      <td>2004.0</td>\n",
       "      <td>11/1/03</td>\n",
       "      <td>Suspect</td>\n",
       "      <td>DIET SPRITE</td>\n",
       "      <td>29</td>\n",
       "      <td>Soft Drink</td>\n",
       "      <td>33.0</td>\n",
       "      <td>Year</td>\n",
       "      <td>Male</td>\n",
       "      <td>LIFE THREATENING, DISABILITY</td>\n",
       "      <td>PARAESTHESIA, PHYSICAL EXAMINATION, HOSPITALIS...</td>\n",
       "      <td>21-40</td>\n",
       "    </tr>\n",
       "    <tr>\n",
       "      <th>26</th>\n",
       "      <td>26</td>\n",
       "      <td>65420.0</td>\n",
       "      <td>1/6/04</td>\n",
       "      <td>2004.0</td>\n",
       "      <td>11/1/03</td>\n",
       "      <td>Suspect</td>\n",
       "      <td>JAMS</td>\n",
       "      <td>22</td>\n",
       "      <td>Fruit</td>\n",
       "      <td>33.0</td>\n",
       "      <td>Year</td>\n",
       "      <td>Male</td>\n",
       "      <td>LIFE THREATENING, DISABILITY</td>\n",
       "      <td>PARAESTHESIA, PHYSICAL EXAMINATION, HOSPITALIS...</td>\n",
       "      <td>21-40</td>\n",
       "    </tr>\n",
       "    <tr>\n",
       "      <th>27</th>\n",
       "      <td>27</td>\n",
       "      <td>65420.0</td>\n",
       "      <td>1/6/04</td>\n",
       "      <td>2004.0</td>\n",
       "      <td>11/1/03</td>\n",
       "      <td>Suspect</td>\n",
       "      <td>LISTERINE STRIPS</td>\n",
       "      <td>53</td>\n",
       "      <td>Cosmetics</td>\n",
       "      <td>33.0</td>\n",
       "      <td>Year</td>\n",
       "      <td>Male</td>\n",
       "      <td>LIFE THREATENING, DISABILITY</td>\n",
       "      <td>PARAESTHESIA, PHYSICAL EXAMINATION, HOSPITALIS...</td>\n",
       "      <td>21-40</td>\n",
       "    </tr>\n",
       "    <tr>\n",
       "      <th>28</th>\n",
       "      <td>28</td>\n",
       "      <td>65420.0</td>\n",
       "      <td>1/6/04</td>\n",
       "      <td>2004.0</td>\n",
       "      <td>11/1/03</td>\n",
       "      <td>Suspect</td>\n",
       "      <td>NUTRASWEET</td>\n",
       "      <td>45</td>\n",
       "      <td>Food Additives (Human Use)</td>\n",
       "      <td>33.0</td>\n",
       "      <td>Year</td>\n",
       "      <td>Male</td>\n",
       "      <td>LIFE THREATENING, DISABILITY</td>\n",
       "      <td>PARAESTHESIA, PHYSICAL EXAMINATION, HOSPITALIS...</td>\n",
       "      <td>21-40</td>\n",
       "    </tr>\n",
       "    <tr>\n",
       "      <th>29</th>\n",
       "      <td>29</td>\n",
       "      <td>65420.0</td>\n",
       "      <td>1/6/04</td>\n",
       "      <td>2004.0</td>\n",
       "      <td>11/1/03</td>\n",
       "      <td>Suspect</td>\n",
       "      <td>PUDDINGS</td>\n",
       "      <td>35</td>\n",
       "      <td>Gelatin</td>\n",
       "      <td>33.0</td>\n",
       "      <td>Year</td>\n",
       "      <td>Male</td>\n",
       "      <td>LIFE THREATENING, DISABILITY</td>\n",
       "      <td>PARAESTHESIA, PHYSICAL EXAMINATION, HOSPITALIS...</td>\n",
       "      <td>21-40</td>\n",
       "    </tr>\n",
       "    <tr>\n",
       "      <th>...</th>\n",
       "      <td>...</td>\n",
       "      <td>...</td>\n",
       "      <td>...</td>\n",
       "      <td>...</td>\n",
       "      <td>...</td>\n",
       "      <td>...</td>\n",
       "      <td>...</td>\n",
       "      <td>...</td>\n",
       "      <td>...</td>\n",
       "      <td>...</td>\n",
       "      <td>...</td>\n",
       "      <td>...</td>\n",
       "      <td>...</td>\n",
       "      <td>...</td>\n",
       "      <td>...</td>\n",
       "    </tr>\n",
       "    <tr>\n",
       "      <th>80139</th>\n",
       "      <td>80139</td>\n",
       "      <td>205260.0</td>\n",
       "      <td>12/15/16</td>\n",
       "      <td>2016.0</td>\n",
       "      <td>10/23/16</td>\n",
       "      <td>Suspect</td>\n",
       "      <td>BLUE BUNNY ICE CREAM BUNNY TRACK</td>\n",
       "      <td>13</td>\n",
       "      <td>Ice Cream Prod</td>\n",
       "      <td>NaN</td>\n",
       "      <td>NaN</td>\n",
       "      <td>NaN</td>\n",
       "      <td>NON-SERIOUS INJURIES/ ILLNESS</td>\n",
       "      <td>ABDOMINAL PAIN UPPER, DIARRHOEA, NAUSEA</td>\n",
       "      <td>NaN</td>\n",
       "    </tr>\n",
       "    <tr>\n",
       "      <th>80140</th>\n",
       "      <td>80140</td>\n",
       "      <td>205300.0</td>\n",
       "      <td>12/16/16</td>\n",
       "      <td>2016.0</td>\n",
       "      <td>10/15/16</td>\n",
       "      <td>Suspect</td>\n",
       "      <td>BLUE BELL COOKIES AND CREAM ICE CREAM</td>\n",
       "      <td>13</td>\n",
       "      <td>Ice Cream Prod</td>\n",
       "      <td>NaN</td>\n",
       "      <td>NaN</td>\n",
       "      <td>Male</td>\n",
       "      <td>NON-SERIOUS INJURIES/ ILLNESS</td>\n",
       "      <td>ABDOMINAL PAIN, DIARRHOEA, NAUSEA, HYPERHIDROS...</td>\n",
       "      <td>NaN</td>\n",
       "    </tr>\n",
       "    <tr>\n",
       "      <th>80141</th>\n",
       "      <td>80141</td>\n",
       "      <td>205312.0</td>\n",
       "      <td>12/16/16</td>\n",
       "      <td>2016.0</td>\n",
       "      <td>NaN</td>\n",
       "      <td>Suspect</td>\n",
       "      <td>NESTLE PUSH POPS</td>\n",
       "      <td>13</td>\n",
       "      <td>Ice Cream Prod</td>\n",
       "      <td>NaN</td>\n",
       "      <td>NaN</td>\n",
       "      <td>Female</td>\n",
       "      <td>SERIOUS INJURIES/ ILLNESS</td>\n",
       "      <td>RASH</td>\n",
       "      <td>NaN</td>\n",
       "    </tr>\n",
       "    <tr>\n",
       "      <th>80142</th>\n",
       "      <td>80142</td>\n",
       "      <td>205323.0</td>\n",
       "      <td>12/16/16</td>\n",
       "      <td>2016.0</td>\n",
       "      <td>12/14/16</td>\n",
       "      <td>Suspect</td>\n",
       "      <td>BRI ALPHA LIPOIC ACID EXTRA STRENGTH</td>\n",
       "      <td>54</td>\n",
       "      <td>Unconventional_food</td>\n",
       "      <td>60.0</td>\n",
       "      <td>Year</td>\n",
       "      <td>Female</td>\n",
       "      <td>OTHER SERIOUS (IMPORTANT MEDICAL EVENTS)</td>\n",
       "      <td>DIARRHOEA, MALAISE, ABDOMINAL PAIN UPPER, ABDO...</td>\n",
       "      <td>41-60</td>\n",
       "    </tr>\n",
       "    <tr>\n",
       "      <th>80143</th>\n",
       "      <td>80143</td>\n",
       "      <td>205325.0</td>\n",
       "      <td>12/16/16</td>\n",
       "      <td>2016.0</td>\n",
       "      <td>12/8/16</td>\n",
       "      <td>Suspect</td>\n",
       "      <td>PURIFIED BRAND OMNI CLEANSING DRINK EXTRA STRE...</td>\n",
       "      <td>54</td>\n",
       "      <td>Unconventional_food</td>\n",
       "      <td>34.0</td>\n",
       "      <td>Year</td>\n",
       "      <td>Male</td>\n",
       "      <td>OTHER SERIOUS (IMPORTANT MEDICAL EVENTS)</td>\n",
       "      <td>DIZZINESS, VOMITING, HOT FLUSH</td>\n",
       "      <td>21-40</td>\n",
       "    </tr>\n",
       "    <tr>\n",
       "      <th>80144</th>\n",
       "      <td>80144</td>\n",
       "      <td>205351.0</td>\n",
       "      <td>12/19/16</td>\n",
       "      <td>2016.0</td>\n",
       "      <td>12/2/16</td>\n",
       "      <td>Suspect</td>\n",
       "      <td>PAMONHA</td>\n",
       "      <td>2</td>\n",
       "      <td>Whole Grain</td>\n",
       "      <td>NaN</td>\n",
       "      <td>NaN</td>\n",
       "      <td>Female</td>\n",
       "      <td>OTHER SERIOUS (IMPORTANT MEDICAL EVENTS)</td>\n",
       "      <td>DIARRHOEA, MALAISE</td>\n",
       "      <td>NaN</td>\n",
       "    </tr>\n",
       "    <tr>\n",
       "      <th>80145</th>\n",
       "      <td>80145</td>\n",
       "      <td>205397.0</td>\n",
       "      <td>12/20/16</td>\n",
       "      <td>2016.0</td>\n",
       "      <td>11/23/16</td>\n",
       "      <td>Suspect</td>\n",
       "      <td>LIPO-FLAVONOID PLUS (NONSPECIFIC)</td>\n",
       "      <td>54</td>\n",
       "      <td>Unconventional_food</td>\n",
       "      <td>75.0</td>\n",
       "      <td>Year</td>\n",
       "      <td>Female</td>\n",
       "      <td>VISITED A HEALTH CARE PROVIDER, OTHER SERIOUS ...</td>\n",
       "      <td>HYPERSENSITIVITY, PHARYNGEAL OEDEMA, DYSPHAGIA...</td>\n",
       "      <td>61-80</td>\n",
       "    </tr>\n",
       "    <tr>\n",
       "      <th>80146</th>\n",
       "      <td>80146</td>\n",
       "      <td>205473.0</td>\n",
       "      <td>12/21/16</td>\n",
       "      <td>2016.0</td>\n",
       "      <td>12/13/16</td>\n",
       "      <td>Suspect</td>\n",
       "      <td>CHOCOLATE CUSTARD DELIGHT</td>\n",
       "      <td>13</td>\n",
       "      <td>Ice Cream Prod</td>\n",
       "      <td>31.0</td>\n",
       "      <td>Year</td>\n",
       "      <td>Male</td>\n",
       "      <td>NON-SERIOUS INJURIES/ ILLNESS</td>\n",
       "      <td>HYPERSENSITIVITY</td>\n",
       "      <td>21-40</td>\n",
       "    </tr>\n",
       "    <tr>\n",
       "      <th>80147</th>\n",
       "      <td>80147</td>\n",
       "      <td>205481.0</td>\n",
       "      <td>12/21/16</td>\n",
       "      <td>2016.0</td>\n",
       "      <td>12/19/16</td>\n",
       "      <td>Suspect</td>\n",
       "      <td>LARA CASHEW AND ALMOND BUTTER NUT SPREAD WITH ...</td>\n",
       "      <td>23</td>\n",
       "      <td>Nuts</td>\n",
       "      <td>NaN</td>\n",
       "      <td>NaN</td>\n",
       "      <td>Female</td>\n",
       "      <td>VISITED AN ER</td>\n",
       "      <td>HYPERSENSITIVITY</td>\n",
       "      <td>NaN</td>\n",
       "    </tr>\n",
       "    <tr>\n",
       "      <th>80148</th>\n",
       "      <td>80148</td>\n",
       "      <td>205483.0</td>\n",
       "      <td>12/21/16</td>\n",
       "      <td>2016.0</td>\n",
       "      <td>NaN</td>\n",
       "      <td>Suspect</td>\n",
       "      <td>WEN ANTI-FRIZZ SWEET ALMOND MINT</td>\n",
       "      <td>53</td>\n",
       "      <td>Cosmetics</td>\n",
       "      <td>NaN</td>\n",
       "      <td>NaN</td>\n",
       "      <td>Female</td>\n",
       "      <td>VISITED A HEALTH CARE PROVIDER</td>\n",
       "      <td>ALOPECIA, SECRETION DISCHARGE, CHEMICAL BURN O...</td>\n",
       "      <td>NaN</td>\n",
       "    </tr>\n",
       "    <tr>\n",
       "      <th>80149</th>\n",
       "      <td>80149</td>\n",
       "      <td>205483.0</td>\n",
       "      <td>12/21/16</td>\n",
       "      <td>2016.0</td>\n",
       "      <td>NaN</td>\n",
       "      <td>Suspect</td>\n",
       "      <td>WEN MOUSSE SWEET ALMOND MINT</td>\n",
       "      <td>53</td>\n",
       "      <td>Cosmetics</td>\n",
       "      <td>NaN</td>\n",
       "      <td>NaN</td>\n",
       "      <td>Female</td>\n",
       "      <td>VISITED A HEALTH CARE PROVIDER</td>\n",
       "      <td>ALOPECIA, SECRETION DISCHARGE, CHEMICAL BURN O...</td>\n",
       "      <td>NaN</td>\n",
       "    </tr>\n",
       "    <tr>\n",
       "      <th>80150</th>\n",
       "      <td>80150</td>\n",
       "      <td>205483.0</td>\n",
       "      <td>12/21/16</td>\n",
       "      <td>2016.0</td>\n",
       "      <td>NaN</td>\n",
       "      <td>Suspect</td>\n",
       "      <td>WEN SWEET ALMOND MINT CLEANSING CONDITIONER</td>\n",
       "      <td>53</td>\n",
       "      <td>Cosmetics</td>\n",
       "      <td>NaN</td>\n",
       "      <td>NaN</td>\n",
       "      <td>Female</td>\n",
       "      <td>VISITED A HEALTH CARE PROVIDER</td>\n",
       "      <td>ALOPECIA, SECRETION DISCHARGE, CHEMICAL BURN O...</td>\n",
       "      <td>NaN</td>\n",
       "    </tr>\n",
       "    <tr>\n",
       "      <th>80151</th>\n",
       "      <td>80151</td>\n",
       "      <td>205484.0</td>\n",
       "      <td>12/21/16</td>\n",
       "      <td>2016.0</td>\n",
       "      <td>NaN</td>\n",
       "      <td>Suspect</td>\n",
       "      <td>CALTRATE (CALCIUM CARBONATE) TABLET</td>\n",
       "      <td>54</td>\n",
       "      <td>Unconventional_food</td>\n",
       "      <td>59.0</td>\n",
       "      <td>Year</td>\n",
       "      <td>Male</td>\n",
       "      <td>DEATH</td>\n",
       "      <td>DEATH</td>\n",
       "      <td>41-60</td>\n",
       "    </tr>\n",
       "    <tr>\n",
       "      <th>80152</th>\n",
       "      <td>80152</td>\n",
       "      <td>205575.0</td>\n",
       "      <td>12/22/16</td>\n",
       "      <td>2016.0</td>\n",
       "      <td>12/20/16</td>\n",
       "      <td>Suspect</td>\n",
       "      <td>Q&amp;B KILLISHI</td>\n",
       "      <td>17</td>\n",
       "      <td>Meat, Meat Products and Poultry</td>\n",
       "      <td>28.0</td>\n",
       "      <td>Year</td>\n",
       "      <td>Male</td>\n",
       "      <td>HOSPITALIZATION, VISITED AN ER</td>\n",
       "      <td>HYPERSENSITIVITY, FOOD ALLERGY</td>\n",
       "      <td>21-40</td>\n",
       "    </tr>\n",
       "    <tr>\n",
       "      <th>80153</th>\n",
       "      <td>80153</td>\n",
       "      <td>205616.0</td>\n",
       "      <td>12/23/16</td>\n",
       "      <td>2016.0</td>\n",
       "      <td>12/22/16</td>\n",
       "      <td>Suspect</td>\n",
       "      <td>IT WORKS CLEANSE</td>\n",
       "      <td>54</td>\n",
       "      <td>Unconventional_food</td>\n",
       "      <td>23.0</td>\n",
       "      <td>Year</td>\n",
       "      <td>Female</td>\n",
       "      <td>VISITED A HEALTH CARE PROVIDER, HOSPITALIZATION</td>\n",
       "      <td>MALAISE, PANCREATITIS, LIPASE INCREASED</td>\n",
       "      <td>21-40</td>\n",
       "    </tr>\n",
       "    <tr>\n",
       "      <th>80154</th>\n",
       "      <td>80154</td>\n",
       "      <td>205668.0</td>\n",
       "      <td>12/27/16</td>\n",
       "      <td>2016.0</td>\n",
       "      <td>6/14/16</td>\n",
       "      <td>Suspect</td>\n",
       "      <td>MINUTE MAID PREMIUM GRAPE PUNCH</td>\n",
       "      <td>29</td>\n",
       "      <td>Soft Drink</td>\n",
       "      <td>NaN</td>\n",
       "      <td>NaN</td>\n",
       "      <td>NaN</td>\n",
       "      <td>NON-SERIOUS INJURIES/ ILLNESS</td>\n",
       "      <td>ABDOMINAL PAIN, ABDOMINAL PAIN UPPER</td>\n",
       "      <td>NaN</td>\n",
       "    </tr>\n",
       "    <tr>\n",
       "      <th>80155</th>\n",
       "      <td>80155</td>\n",
       "      <td>205669.0</td>\n",
       "      <td>12/27/16</td>\n",
       "      <td>2016.0</td>\n",
       "      <td>NaN</td>\n",
       "      <td>Suspect</td>\n",
       "      <td>WEN SWEET ALMOND MINT CLEANSING CONDITIONER</td>\n",
       "      <td>53</td>\n",
       "      <td>Cosmetics</td>\n",
       "      <td>NaN</td>\n",
       "      <td>NaN</td>\n",
       "      <td>Female</td>\n",
       "      <td>NON-SERIOUS INJURIES/ ILLNESS</td>\n",
       "      <td>ALOPECIA</td>\n",
       "      <td>NaN</td>\n",
       "    </tr>\n",
       "    <tr>\n",
       "      <th>80156</th>\n",
       "      <td>80156</td>\n",
       "      <td>205670.0</td>\n",
       "      <td>12/27/16</td>\n",
       "      <td>2016.0</td>\n",
       "      <td>NaN</td>\n",
       "      <td>Suspect</td>\n",
       "      <td>WEN CLEANSING CONDITIONER (UNKNOWN)</td>\n",
       "      <td>53</td>\n",
       "      <td>Cosmetics</td>\n",
       "      <td>NaN</td>\n",
       "      <td>NaN</td>\n",
       "      <td>Female</td>\n",
       "      <td>NON-SERIOUS INJURIES/ ILLNESS</td>\n",
       "      <td>ALOPECIA, SKIN SENSITISATION, ALOPECIA, PARAES...</td>\n",
       "      <td>NaN</td>\n",
       "    </tr>\n",
       "    <tr>\n",
       "      <th>80157</th>\n",
       "      <td>80157</td>\n",
       "      <td>205670.0</td>\n",
       "      <td>12/27/16</td>\n",
       "      <td>2016.0</td>\n",
       "      <td>NaN</td>\n",
       "      <td>Suspect</td>\n",
       "      <td>WEN SWEET ALMOND MINT CLEANSING CONDITIONER</td>\n",
       "      <td>53</td>\n",
       "      <td>Cosmetics</td>\n",
       "      <td>NaN</td>\n",
       "      <td>NaN</td>\n",
       "      <td>Female</td>\n",
       "      <td>NON-SERIOUS INJURIES/ ILLNESS</td>\n",
       "      <td>ALOPECIA, SKIN SENSITISATION, ALOPECIA, PARAES...</td>\n",
       "      <td>NaN</td>\n",
       "    </tr>\n",
       "    <tr>\n",
       "      <th>80158</th>\n",
       "      <td>80158</td>\n",
       "      <td>205671.0</td>\n",
       "      <td>12/27/16</td>\n",
       "      <td>2016.0</td>\n",
       "      <td>NaN</td>\n",
       "      <td>Suspect</td>\n",
       "      <td>DAIRY STAR NON-DAIRY CREAMER</td>\n",
       "      <td>14</td>\n",
       "      <td>Filled Milk</td>\n",
       "      <td>NaN</td>\n",
       "      <td>NaN</td>\n",
       "      <td>NaN</td>\n",
       "      <td>NON-SERIOUS INJURIES/ ILLNESS</td>\n",
       "      <td>MALAISE, ABDOMINAL PAIN, DIARRHOEA</td>\n",
       "      <td>NaN</td>\n",
       "    </tr>\n",
       "    <tr>\n",
       "      <th>80159</th>\n",
       "      <td>80159</td>\n",
       "      <td>205673.0</td>\n",
       "      <td>12/27/16</td>\n",
       "      <td>2016.0</td>\n",
       "      <td>10/7/16</td>\n",
       "      <td>Suspect</td>\n",
       "      <td>PUBLIX SOUTHERN STYLE POTATO SALAD</td>\n",
       "      <td>39</td>\n",
       "      <td>Prep Salad Prod</td>\n",
       "      <td>5.0</td>\n",
       "      <td>Year</td>\n",
       "      <td>NaN</td>\n",
       "      <td>NON-SERIOUS INJURIES/ ILLNESS</td>\n",
       "      <td>ABDOMINAL PAIN, VOMITING, ABDOMINAL PAIN UPPER...</td>\n",
       "      <td>0-20</td>\n",
       "    </tr>\n",
       "    <tr>\n",
       "      <th>80160</th>\n",
       "      <td>80160</td>\n",
       "      <td>205680.0</td>\n",
       "      <td>12/27/16</td>\n",
       "      <td>2016.0</td>\n",
       "      <td>12/23/16</td>\n",
       "      <td>Suspect</td>\n",
       "      <td>BUSH'S BEST MAPLE CURED</td>\n",
       "      <td>24</td>\n",
       "      <td>Vegetables</td>\n",
       "      <td>53.0</td>\n",
       "      <td>Year</td>\n",
       "      <td>Female</td>\n",
       "      <td>OTHER SERIOUS (IMPORTANT MEDICAL EVENTS)</td>\n",
       "      <td>LACERATION</td>\n",
       "      <td>41-60</td>\n",
       "    </tr>\n",
       "    <tr>\n",
       "      <th>80161</th>\n",
       "      <td>80161</td>\n",
       "      <td>205691.0</td>\n",
       "      <td>12/27/16</td>\n",
       "      <td>2016.0</td>\n",
       "      <td>12/15/16</td>\n",
       "      <td>Suspect</td>\n",
       "      <td>ALOE LAX 450</td>\n",
       "      <td>54</td>\n",
       "      <td>Unconventional_food</td>\n",
       "      <td>NaN</td>\n",
       "      <td>NaN</td>\n",
       "      <td>Female</td>\n",
       "      <td>DISABILITY, VISITED A HEALTH CARE PROVIDER, OT...</td>\n",
       "      <td>RENAL FAILURE ACUTE, RENAL INJURY, FATIGUE, TU...</td>\n",
       "      <td>NaN</td>\n",
       "    </tr>\n",
       "    <tr>\n",
       "      <th>80162</th>\n",
       "      <td>80162</td>\n",
       "      <td>205711.0</td>\n",
       "      <td>12/28/16</td>\n",
       "      <td>2016.0</td>\n",
       "      <td>4/28/16</td>\n",
       "      <td>Suspect</td>\n",
       "      <td>TRY ME YUCATAN SUNSHINE HABANERO PEPPER SAUCE</td>\n",
       "      <td>27</td>\n",
       "      <td>Dressing</td>\n",
       "      <td>NaN</td>\n",
       "      <td>NaN</td>\n",
       "      <td>Female</td>\n",
       "      <td>NON-SERIOUS INJURIES/ ILLNESS</td>\n",
       "      <td>NAUSEA</td>\n",
       "      <td>NaN</td>\n",
       "    </tr>\n",
       "    <tr>\n",
       "      <th>80163</th>\n",
       "      <td>80163</td>\n",
       "      <td>205723.0</td>\n",
       "      <td>12/28/16</td>\n",
       "      <td>2016.0</td>\n",
       "      <td>NaN</td>\n",
       "      <td>Suspect</td>\n",
       "      <td>EQUATE COMPLETE ADULTS 50+ MULTIVITAMIN/MULTI-...</td>\n",
       "      <td>54</td>\n",
       "      <td>Unconventional_food</td>\n",
       "      <td>NaN</td>\n",
       "      <td>NaN</td>\n",
       "      <td>Female</td>\n",
       "      <td>NON-SERIOUS INJURIES/ ILLNESS</td>\n",
       "      <td>HEADACHE, TINNITUS</td>\n",
       "      <td>NaN</td>\n",
       "    </tr>\n",
       "    <tr>\n",
       "      <th>80164</th>\n",
       "      <td>80164</td>\n",
       "      <td>205724.0</td>\n",
       "      <td>12/28/16</td>\n",
       "      <td>2016.0</td>\n",
       "      <td>12/17/16</td>\n",
       "      <td>Suspect</td>\n",
       "      <td>ENFAMIL NEUTRAMIGEN</td>\n",
       "      <td>40</td>\n",
       "      <td>Baby Food Prod</td>\n",
       "      <td>NaN</td>\n",
       "      <td>NaN</td>\n",
       "      <td>Female</td>\n",
       "      <td>HOSPITALIZATION</td>\n",
       "      <td>MALAISE</td>\n",
       "      <td>NaN</td>\n",
       "    </tr>\n",
       "    <tr>\n",
       "      <th>80165</th>\n",
       "      <td>80165</td>\n",
       "      <td>205753.0</td>\n",
       "      <td>12/28/16</td>\n",
       "      <td>2016.0</td>\n",
       "      <td>NaN</td>\n",
       "      <td>Suspect</td>\n",
       "      <td>WEN CLEANSING CONDITIONER KIT</td>\n",
       "      <td>53</td>\n",
       "      <td>Cosmetics</td>\n",
       "      <td>NaN</td>\n",
       "      <td>NaN</td>\n",
       "      <td>Female</td>\n",
       "      <td>NON-SERIOUS INJURIES/ ILLNESS</td>\n",
       "      <td>ALOPECIA</td>\n",
       "      <td>NaN</td>\n",
       "    </tr>\n",
       "    <tr>\n",
       "      <th>80166</th>\n",
       "      <td>80166</td>\n",
       "      <td>205814.0</td>\n",
       "      <td>12/29/16</td>\n",
       "      <td>2016.0</td>\n",
       "      <td>12/25/16</td>\n",
       "      <td>Suspect</td>\n",
       "      <td>DARK CRUNCH CHOCOLATE</td>\n",
       "      <td>34</td>\n",
       "      <td>Choc</td>\n",
       "      <td>NaN</td>\n",
       "      <td>NaN</td>\n",
       "      <td>Male</td>\n",
       "      <td>LIFE THREATENING, HOSPITALIZATION</td>\n",
       "      <td>DYSPNOEA, ANAPHYLACTIC REACTION, DYSPHAGIA, AB...</td>\n",
       "      <td>NaN</td>\n",
       "    </tr>\n",
       "    <tr>\n",
       "      <th>80167</th>\n",
       "      <td>80167</td>\n",
       "      <td>205817.0</td>\n",
       "      <td>12/29/16</td>\n",
       "      <td>2016.0</td>\n",
       "      <td>12/27/10</td>\n",
       "      <td>Suspect</td>\n",
       "      <td>ST IVES FACE WASH</td>\n",
       "      <td>53</td>\n",
       "      <td>Cosmetics</td>\n",
       "      <td>27.0</td>\n",
       "      <td>Year</td>\n",
       "      <td>Female</td>\n",
       "      <td>VISITED A HEALTH CARE PROVIDER</td>\n",
       "      <td>EYE PAIN, EYE IRRITATION</td>\n",
       "      <td>21-40</td>\n",
       "    </tr>\n",
       "    <tr>\n",
       "      <th>80168</th>\n",
       "      <td>80168</td>\n",
       "      <td>205865.0</td>\n",
       "      <td>12/30/16</td>\n",
       "      <td>2016.0</td>\n",
       "      <td>8/1/16</td>\n",
       "      <td>Suspect</td>\n",
       "      <td>WEN CONDITIONING SHAMPOO</td>\n",
       "      <td>53</td>\n",
       "      <td>Cosmetics</td>\n",
       "      <td>NaN</td>\n",
       "      <td>NaN</td>\n",
       "      <td>Male</td>\n",
       "      <td>NON-SERIOUS INJURIES/ ILLNESS</td>\n",
       "      <td>SKIN IRRITATION, BURNING SENSATION</td>\n",
       "      <td>NaN</td>\n",
       "    </tr>\n",
       "  </tbody>\n",
       "</table>\n",
       "<p>80169 rows × 15 columns</p>\n",
       "</div>"
      ],
      "text/plain": [
       "       Unnamed: 0  RA_Report # RA_CAERS Created Date    Year Start_Date  \\\n",
       "0               0      65325.0                1/1/04  2004.0     8/4/03   \n",
       "1               1      65333.0                1/1/04  2004.0        NaN   \n",
       "2               2      65335.0                1/1/04  2004.0   11/24/03   \n",
       "3               3      65336.0                1/1/04  2004.0        NaN   \n",
       "4               4      65345.0                1/1/04  2004.0   12/21/03   \n",
       "5               5      65350.0                1/1/04  2004.0        NaN   \n",
       "6               6      65353.0                1/2/04  2004.0    12/1/03   \n",
       "7               7      65353.0                1/2/04  2004.0    12/1/03   \n",
       "8               8      65354.0                1/2/04  2004.0        NaN   \n",
       "9               9      65355.0                1/2/04  2004.0   10/27/03   \n",
       "10             10      65356.0                1/2/04  2004.0   10/27/03   \n",
       "11             11      65357.0                1/2/04  2004.0   10/27/03   \n",
       "12             12      65379.0                1/3/04  2004.0    11/5/03   \n",
       "13             13      65387.0                1/3/04  2004.0        NaN   \n",
       "14             14      65388.0                1/3/04  2004.0   12/30/03   \n",
       "15             15      65399.0                1/5/04  2004.0   11/22/03   \n",
       "16             16      65400.0                1/5/04  2004.0     9/5/01   \n",
       "17             17      65403.0                1/5/04  2004.0     3/4/03   \n",
       "18             18      65404.0                1/5/04  2004.0        NaN   \n",
       "19             19      65416.0                1/6/04  2004.0   11/15/03   \n",
       "20             20      65419.0                1/6/04  2004.0        NaN   \n",
       "21             21      65420.0                1/6/04  2004.0    11/1/03   \n",
       "22             22      65420.0                1/6/04  2004.0    11/1/03   \n",
       "23             23      65420.0                1/6/04  2004.0    11/1/03   \n",
       "24             24      65420.0                1/6/04  2004.0    11/1/03   \n",
       "25             25      65420.0                1/6/04  2004.0    11/1/03   \n",
       "26             26      65420.0                1/6/04  2004.0    11/1/03   \n",
       "27             27      65420.0                1/6/04  2004.0    11/1/03   \n",
       "28             28      65420.0                1/6/04  2004.0    11/1/03   \n",
       "29             29      65420.0                1/6/04  2004.0    11/1/03   \n",
       "...           ...          ...                   ...     ...        ...   \n",
       "80139       80139     205260.0              12/15/16  2016.0   10/23/16   \n",
       "80140       80140     205300.0              12/16/16  2016.0   10/15/16   \n",
       "80141       80141     205312.0              12/16/16  2016.0        NaN   \n",
       "80142       80142     205323.0              12/16/16  2016.0   12/14/16   \n",
       "80143       80143     205325.0              12/16/16  2016.0    12/8/16   \n",
       "80144       80144     205351.0              12/19/16  2016.0    12/2/16   \n",
       "80145       80145     205397.0              12/20/16  2016.0   11/23/16   \n",
       "80146       80146     205473.0              12/21/16  2016.0   12/13/16   \n",
       "80147       80147     205481.0              12/21/16  2016.0   12/19/16   \n",
       "80148       80148     205483.0              12/21/16  2016.0        NaN   \n",
       "80149       80149     205483.0              12/21/16  2016.0        NaN   \n",
       "80150       80150     205483.0              12/21/16  2016.0        NaN   \n",
       "80151       80151     205484.0              12/21/16  2016.0        NaN   \n",
       "80152       80152     205575.0              12/22/16  2016.0   12/20/16   \n",
       "80153       80153     205616.0              12/23/16  2016.0   12/22/16   \n",
       "80154       80154     205668.0              12/27/16  2016.0    6/14/16   \n",
       "80155       80155     205669.0              12/27/16  2016.0        NaN   \n",
       "80156       80156     205670.0              12/27/16  2016.0        NaN   \n",
       "80157       80157     205670.0              12/27/16  2016.0        NaN   \n",
       "80158       80158     205671.0              12/27/16  2016.0        NaN   \n",
       "80159       80159     205673.0              12/27/16  2016.0    10/7/16   \n",
       "80160       80160     205680.0              12/27/16  2016.0   12/23/16   \n",
       "80161       80161     205691.0              12/27/16  2016.0   12/15/16   \n",
       "80162       80162     205711.0              12/28/16  2016.0    4/28/16   \n",
       "80163       80163     205723.0              12/28/16  2016.0        NaN   \n",
       "80164       80164     205724.0              12/28/16  2016.0   12/17/16   \n",
       "80165       80165     205753.0              12/28/16  2016.0        NaN   \n",
       "80166       80166     205814.0              12/29/16  2016.0   12/25/16   \n",
       "80167       80167     205817.0              12/29/16  2016.0   12/27/10   \n",
       "80168       80168     205865.0              12/30/16  2016.0     8/1/16   \n",
       "\n",
       "          Role                                      Brand/Product  \\\n",
       "0      Suspect      MIDWEST COUNTRY FAIR CHOCOLATE FLAVORED CHIPS   \n",
       "1      Suspect  KROGER CLASSIC CREAM-DE-MINT CANDY MINT CHIP I...   \n",
       "2      Suspect                         ENFAMIL LIPIL BABY FORMULA   \n",
       "3      Suspect                         ENFIMIL LIPIL BABY FORMULA   \n",
       "4      Suspect        FRITO LAY FUNYUNS ONION FLAVOR, ONION RINGS   \n",
       "5      Suspect                                              GRAPE   \n",
       "6      Suspect                                HERBALIFE RELAX NOW   \n",
       "7      Suspect                            HERBALIFE TOTAL CONTROL   \n",
       "8      Suspect                                            YOHIMBE   \n",
       "9      Suspect         CAL-C PEACH TROPIC ENRICHED BEVERAGE BLEND   \n",
       "10     Suspect         CAL-C PEACH TROPIC ENRICHED BEVERAGE BLEND   \n",
       "11     Suspect         CAL-C PEACH TROPIC ENRICHED BEVERAGE BLEND   \n",
       "12     Suspect                 I CONTACT LIP-INK (SEMI-PERMANENT)   \n",
       "13     Suspect                            H.P. HOOD HALF AND HALF   \n",
       "14     Suspect   LACTAID REDUCED FAT (2%) MILK; 100% LACTOSE FREE   \n",
       "15     Suspect                                     METOBOLITE 356   \n",
       "16     Suspect                                         METABOLIFE   \n",
       "17     Suspect                              METABOLIFE METABOLIFE   \n",
       "18     Suspect                     ENIVA MINERALS FOR LIFE-SILVER   \n",
       "19     Suspect                                            AVLIMIL   \n",
       "20     Suspect                                            AVLIMIL   \n",
       "21     Suspect                                             COFFEE   \n",
       "22     Suspect                            DIET CAFFEINE FREE COKE   \n",
       "23     Suspect                                          DIET COKE   \n",
       "24     Suspect                                         DIET PEPSI   \n",
       "25     Suspect                                        DIET SPRITE   \n",
       "26     Suspect                                               JAMS   \n",
       "27     Suspect                                   LISTERINE STRIPS   \n",
       "28     Suspect                                         NUTRASWEET   \n",
       "29     Suspect                                           PUDDINGS   \n",
       "...        ...                                                ...   \n",
       "80139  Suspect                   BLUE BUNNY ICE CREAM BUNNY TRACK   \n",
       "80140  Suspect              BLUE BELL COOKIES AND CREAM ICE CREAM   \n",
       "80141  Suspect                                   NESTLE PUSH POPS   \n",
       "80142  Suspect               BRI ALPHA LIPOIC ACID EXTRA STRENGTH   \n",
       "80143  Suspect  PURIFIED BRAND OMNI CLEANSING DRINK EXTRA STRE...   \n",
       "80144  Suspect                                            PAMONHA   \n",
       "80145  Suspect                  LIPO-FLAVONOID PLUS (NONSPECIFIC)   \n",
       "80146  Suspect                          CHOCOLATE CUSTARD DELIGHT   \n",
       "80147  Suspect  LARA CASHEW AND ALMOND BUTTER NUT SPREAD WITH ...   \n",
       "80148  Suspect                   WEN ANTI-FRIZZ SWEET ALMOND MINT   \n",
       "80149  Suspect                       WEN MOUSSE SWEET ALMOND MINT   \n",
       "80150  Suspect        WEN SWEET ALMOND MINT CLEANSING CONDITIONER   \n",
       "80151  Suspect                CALTRATE (CALCIUM CARBONATE) TABLET   \n",
       "80152  Suspect                                       Q&B KILLISHI   \n",
       "80153  Suspect                                   IT WORKS CLEANSE   \n",
       "80154  Suspect                    MINUTE MAID PREMIUM GRAPE PUNCH   \n",
       "80155  Suspect        WEN SWEET ALMOND MINT CLEANSING CONDITIONER   \n",
       "80156  Suspect                WEN CLEANSING CONDITIONER (UNKNOWN)   \n",
       "80157  Suspect        WEN SWEET ALMOND MINT CLEANSING CONDITIONER   \n",
       "80158  Suspect                       DAIRY STAR NON-DAIRY CREAMER   \n",
       "80159  Suspect                 PUBLIX SOUTHERN STYLE POTATO SALAD   \n",
       "80160  Suspect                            BUSH'S BEST MAPLE CURED   \n",
       "80161  Suspect                                       ALOE LAX 450   \n",
       "80162  Suspect      TRY ME YUCATAN SUNSHINE HABANERO PEPPER SAUCE   \n",
       "80163  Suspect  EQUATE COMPLETE ADULTS 50+ MULTIVITAMIN/MULTI-...   \n",
       "80164  Suspect                                ENFAMIL NEUTRAMIGEN   \n",
       "80165  Suspect                      WEN CLEANSING CONDITIONER KIT   \n",
       "80166  Suspect                              DARK CRUNCH CHOCOLATE   \n",
       "80167  Suspect                                  ST IVES FACE WASH   \n",
       "80168  Suspect                           WEN CONDITIONING SHAMPOO   \n",
       "\n",
       "      PRI_FDA Industry Code                         Industry   Age Age Unit  \\\n",
       "0                         3                      Bakery Prod   2.0     Year   \n",
       "1                        13                   Ice Cream Prod   NaN      NaN   \n",
       "2                        40                   Baby Food Prod   3.0    Month   \n",
       "3                        40                   Baby Food Prod   NaN      NaN   \n",
       "4                         7                  Snack Food Item  10.0     Year   \n",
       "5                        20                            Fruit   NaN      NaN   \n",
       "6                        54              Unconventional_food   NaN      NaN   \n",
       "7                        54              Unconventional_food   NaN      NaN   \n",
       "8                        54              Unconventional_food  66.0     Year   \n",
       "9                        29                       Soft Drink   NaN      NaN   \n",
       "10                       29                       Soft Drink   NaN      NaN   \n",
       "11                       29                       Soft Drink   NaN      NaN   \n",
       "12                       53                        Cosmetics   NaN      NaN   \n",
       "13                        9                             Milk   NaN      NaN   \n",
       "14                        9                             Milk   NaN      NaN   \n",
       "15                       54              Unconventional_food  51.0     Year   \n",
       "16                       54              Unconventional_food  45.0     Year   \n",
       "17                       54              Unconventional_food  54.0     Year   \n",
       "18                       54              Unconventional_food  16.0     Year   \n",
       "19                       54              Unconventional_food  36.0     Year   \n",
       "20                       54              Unconventional_food  48.0     Year   \n",
       "21                       31                           Coffee  33.0     Year   \n",
       "22                       29                       Soft Drink  33.0     Year   \n",
       "23                       29                       Soft Drink  33.0     Year   \n",
       "24                       29                       Soft Drink  33.0     Year   \n",
       "25                       29                       Soft Drink  33.0     Year   \n",
       "26                       22                            Fruit  33.0     Year   \n",
       "27                       53                        Cosmetics  33.0     Year   \n",
       "28                       45       Food Additives (Human Use)  33.0     Year   \n",
       "29                       35                          Gelatin  33.0     Year   \n",
       "...                     ...                              ...   ...      ...   \n",
       "80139                    13                   Ice Cream Prod   NaN      NaN   \n",
       "80140                    13                   Ice Cream Prod   NaN      NaN   \n",
       "80141                    13                   Ice Cream Prod   NaN      NaN   \n",
       "80142                    54              Unconventional_food  60.0     Year   \n",
       "80143                    54              Unconventional_food  34.0     Year   \n",
       "80144                     2                      Whole Grain   NaN      NaN   \n",
       "80145                    54              Unconventional_food  75.0     Year   \n",
       "80146                    13                   Ice Cream Prod  31.0     Year   \n",
       "80147                    23                             Nuts   NaN      NaN   \n",
       "80148                    53                        Cosmetics   NaN      NaN   \n",
       "80149                    53                        Cosmetics   NaN      NaN   \n",
       "80150                    53                        Cosmetics   NaN      NaN   \n",
       "80151                    54              Unconventional_food  59.0     Year   \n",
       "80152                    17  Meat, Meat Products and Poultry  28.0     Year   \n",
       "80153                    54              Unconventional_food  23.0     Year   \n",
       "80154                    29                       Soft Drink   NaN      NaN   \n",
       "80155                    53                        Cosmetics   NaN      NaN   \n",
       "80156                    53                        Cosmetics   NaN      NaN   \n",
       "80157                    53                        Cosmetics   NaN      NaN   \n",
       "80158                    14                      Filled Milk   NaN      NaN   \n",
       "80159                    39                  Prep Salad Prod   5.0     Year   \n",
       "80160                    24                       Vegetables  53.0     Year   \n",
       "80161                    54              Unconventional_food   NaN      NaN   \n",
       "80162                    27                         Dressing   NaN      NaN   \n",
       "80163                    54              Unconventional_food   NaN      NaN   \n",
       "80164                    40                   Baby Food Prod   NaN      NaN   \n",
       "80165                    53                        Cosmetics   NaN      NaN   \n",
       "80166                    34                             Choc   NaN      NaN   \n",
       "80167                    53                        Cosmetics  27.0     Year   \n",
       "80168                    53                        Cosmetics   NaN      NaN   \n",
       "\n",
       "       Gender                               AEC_One Row Outcomes  \\\n",
       "0      Female  VISITED AN ER, VISITED A HEALTH CARE PROVIDER,...   \n",
       "1      Female                                      VISITED AN ER   \n",
       "2         NaN                      NON-SERIOUS INJURIES/ ILLNESS   \n",
       "3         NaN                     VISITED A HEALTH CARE PROVIDER   \n",
       "4        Male                      NON-SERIOUS INJURIES/ ILLNESS   \n",
       "5         NaN                                              DEATH   \n",
       "6      Female                     VISITED A HEALTH CARE PROVIDER   \n",
       "7      Female                     VISITED A HEALTH CARE PROVIDER   \n",
       "8        Male          REQ. INTERVENTION TO PRVNT PERM. IMPRMNT.   \n",
       "9        Male                      NON-SERIOUS INJURIES/ ILLNESS   \n",
       "10        NaN                      NON-SERIOUS INJURIES/ ILLNESS   \n",
       "11        NaN                      NON-SERIOUS INJURIES/ ILLNESS   \n",
       "12     Female                      NON-SERIOUS INJURIES/ ILLNESS   \n",
       "13     Female                      NON-SERIOUS INJURIES/ ILLNESS   \n",
       "14       Male                      NON-SERIOUS INJURIES/ ILLNESS   \n",
       "15       Male                                              DEATH   \n",
       "16     Female                                              DEATH   \n",
       "17     Female                  LIFE THREATENING, HOSPITALIZATION   \n",
       "18       Male                     VISITED A HEALTH CARE PROVIDER   \n",
       "19     Female                     VISITED A HEALTH CARE PROVIDER   \n",
       "20     Female                      NON-SERIOUS INJURIES/ ILLNESS   \n",
       "21       Male                       LIFE THREATENING, DISABILITY   \n",
       "22       Male                       LIFE THREATENING, DISABILITY   \n",
       "23       Male                       LIFE THREATENING, DISABILITY   \n",
       "24       Male                       LIFE THREATENING, DISABILITY   \n",
       "25       Male                       LIFE THREATENING, DISABILITY   \n",
       "26       Male                       LIFE THREATENING, DISABILITY   \n",
       "27       Male                       LIFE THREATENING, DISABILITY   \n",
       "28       Male                       LIFE THREATENING, DISABILITY   \n",
       "29       Male                       LIFE THREATENING, DISABILITY   \n",
       "...       ...                                                ...   \n",
       "80139     NaN                      NON-SERIOUS INJURIES/ ILLNESS   \n",
       "80140    Male                      NON-SERIOUS INJURIES/ ILLNESS   \n",
       "80141  Female                          SERIOUS INJURIES/ ILLNESS   \n",
       "80142  Female           OTHER SERIOUS (IMPORTANT MEDICAL EVENTS)   \n",
       "80143    Male           OTHER SERIOUS (IMPORTANT MEDICAL EVENTS)   \n",
       "80144  Female           OTHER SERIOUS (IMPORTANT MEDICAL EVENTS)   \n",
       "80145  Female  VISITED A HEALTH CARE PROVIDER, OTHER SERIOUS ...   \n",
       "80146    Male                      NON-SERIOUS INJURIES/ ILLNESS   \n",
       "80147  Female                                      VISITED AN ER   \n",
       "80148  Female                     VISITED A HEALTH CARE PROVIDER   \n",
       "80149  Female                     VISITED A HEALTH CARE PROVIDER   \n",
       "80150  Female                     VISITED A HEALTH CARE PROVIDER   \n",
       "80151    Male                                              DEATH   \n",
       "80152    Male                     HOSPITALIZATION, VISITED AN ER   \n",
       "80153  Female    VISITED A HEALTH CARE PROVIDER, HOSPITALIZATION   \n",
       "80154     NaN                      NON-SERIOUS INJURIES/ ILLNESS   \n",
       "80155  Female                      NON-SERIOUS INJURIES/ ILLNESS   \n",
       "80156  Female                      NON-SERIOUS INJURIES/ ILLNESS   \n",
       "80157  Female                      NON-SERIOUS INJURIES/ ILLNESS   \n",
       "80158     NaN                      NON-SERIOUS INJURIES/ ILLNESS   \n",
       "80159     NaN                      NON-SERIOUS INJURIES/ ILLNESS   \n",
       "80160  Female           OTHER SERIOUS (IMPORTANT MEDICAL EVENTS)   \n",
       "80161  Female  DISABILITY, VISITED A HEALTH CARE PROVIDER, OT...   \n",
       "80162  Female                      NON-SERIOUS INJURIES/ ILLNESS   \n",
       "80163  Female                      NON-SERIOUS INJURIES/ ILLNESS   \n",
       "80164  Female                                    HOSPITALIZATION   \n",
       "80165  Female                      NON-SERIOUS INJURIES/ ILLNESS   \n",
       "80166    Male                  LIFE THREATENING, HOSPITALIZATION   \n",
       "80167  Female                     VISITED A HEALTH CARE PROVIDER   \n",
       "80168    Male                      NON-SERIOUS INJURIES/ ILLNESS   \n",
       "\n",
       "                              SYM_One Row Coded Symptoms Age_interval  \n",
       "0      SWELLING FACE, WHEEZING, COUGH, RASH, HOSPITAL...         0-20  \n",
       "1                           NAUSEA, DYSGEUSIA, DIARRHOEA          NaN  \n",
       "2                    GASTROINTESTINAL DISORDER, VOMITING          0-3  \n",
       "3        GASTROINTESTINAL DISORDER, PHYSICAL EXAMINATION          NaN  \n",
       "4                                                CHOKING         0-20  \n",
       "5                                         DEATH, CHOKING          NaN  \n",
       "6               PARANOIA, PHYSICAL EXAMINATION, DELUSION          NaN  \n",
       "7               PARANOIA, PHYSICAL EXAMINATION, DELUSION          NaN  \n",
       "8                               BLOOD PRESSURE INCREASED        61-80  \n",
       "9      FLUSHING, MALAISE, RASH, ABDOMINAL PAIN, DIARR...          NaN  \n",
       "10     LOOSE STOOLS, ABDOMINAL PAIN UPPER, VOMITING, ...          NaN  \n",
       "11     RASH, LOOSE STOOLS, ABDOMINAL PAIN UPPER, MALA...          NaN  \n",
       "12                      SWELLING FACE, PARAESTHESIA ORAL          NaN  \n",
       "13                                           PHARYNGITIS          NaN  \n",
       "14                                              VOMITING          NaN  \n",
       "15             COMPLETED SUICIDE, STRESS SYMPTOMS, DEATH        41-60  \n",
       "16                      DEATH, MITRAL VALVE INCOMPETENCE        41-60  \n",
       "17                              CEREBROVASCULAR ACCIDENT        41-60  \n",
       "18           MUCOSAL DISCOLOURATION, SKIN DISCOLOURATION         0-20  \n",
       "19     HEART RATE INCREASED, DIZZINESS, BLOOD PRESSUR...        21-40  \n",
       "20                                     PAIN IN EXTREMITY        41-60  \n",
       "21     PARAESTHESIA, PHYSICAL EXAMINATION, HOSPITALIS...        21-40  \n",
       "22     PARAESTHESIA, PHYSICAL EXAMINATION, HOSPITALIS...        21-40  \n",
       "23     PARAESTHESIA, PHYSICAL EXAMINATION, HOSPITALIS...        21-40  \n",
       "24     PARAESTHESIA, PHYSICAL EXAMINATION, HOSPITALIS...        21-40  \n",
       "25     PARAESTHESIA, PHYSICAL EXAMINATION, HOSPITALIS...        21-40  \n",
       "26     PARAESTHESIA, PHYSICAL EXAMINATION, HOSPITALIS...        21-40  \n",
       "27     PARAESTHESIA, PHYSICAL EXAMINATION, HOSPITALIS...        21-40  \n",
       "28     PARAESTHESIA, PHYSICAL EXAMINATION, HOSPITALIS...        21-40  \n",
       "29     PARAESTHESIA, PHYSICAL EXAMINATION, HOSPITALIS...        21-40  \n",
       "...                                                  ...          ...  \n",
       "80139            ABDOMINAL PAIN UPPER, DIARRHOEA, NAUSEA          NaN  \n",
       "80140  ABDOMINAL PAIN, DIARRHOEA, NAUSEA, HYPERHIDROS...          NaN  \n",
       "80141                                               RASH          NaN  \n",
       "80142  DIARRHOEA, MALAISE, ABDOMINAL PAIN UPPER, ABDO...        41-60  \n",
       "80143                     DIZZINESS, VOMITING, HOT FLUSH        21-40  \n",
       "80144                                 DIARRHOEA, MALAISE          NaN  \n",
       "80145  HYPERSENSITIVITY, PHARYNGEAL OEDEMA, DYSPHAGIA...        61-80  \n",
       "80146                                   HYPERSENSITIVITY        21-40  \n",
       "80147                                   HYPERSENSITIVITY          NaN  \n",
       "80148  ALOPECIA, SECRETION DISCHARGE, CHEMICAL BURN O...          NaN  \n",
       "80149  ALOPECIA, SECRETION DISCHARGE, CHEMICAL BURN O...          NaN  \n",
       "80150  ALOPECIA, SECRETION DISCHARGE, CHEMICAL BURN O...          NaN  \n",
       "80151                                              DEATH        41-60  \n",
       "80152                     HYPERSENSITIVITY, FOOD ALLERGY        21-40  \n",
       "80153            MALAISE, PANCREATITIS, LIPASE INCREASED        21-40  \n",
       "80154               ABDOMINAL PAIN, ABDOMINAL PAIN UPPER          NaN  \n",
       "80155                                           ALOPECIA          NaN  \n",
       "80156  ALOPECIA, SKIN SENSITISATION, ALOPECIA, PARAES...          NaN  \n",
       "80157  ALOPECIA, SKIN SENSITISATION, ALOPECIA, PARAES...          NaN  \n",
       "80158                 MALAISE, ABDOMINAL PAIN, DIARRHOEA          NaN  \n",
       "80159  ABDOMINAL PAIN, VOMITING, ABDOMINAL PAIN UPPER...         0-20  \n",
       "80160                                         LACERATION        41-60  \n",
       "80161  RENAL FAILURE ACUTE, RENAL INJURY, FATIGUE, TU...          NaN  \n",
       "80162                                             NAUSEA          NaN  \n",
       "80163                                 HEADACHE, TINNITUS          NaN  \n",
       "80164                                            MALAISE          NaN  \n",
       "80165                                           ALOPECIA          NaN  \n",
       "80166  DYSPNOEA, ANAPHYLACTIC REACTION, DYSPHAGIA, AB...          NaN  \n",
       "80167                           EYE PAIN, EYE IRRITATION        21-40  \n",
       "80168                 SKIN IRRITATION, BURNING SENSATION          NaN  \n",
       "\n",
       "[80169 rows x 15 columns]"
      ]
     },
     "execution_count": 6,
     "metadata": {},
     "output_type": "execute_result"
    }
   ],
   "source": [
    "data"
   ]
  },
  {
   "cell_type": "code",
   "execution_count": 20,
   "metadata": {
    "collapsed": false,
    "deletable": true,
    "editable": true
   },
   "outputs": [],
   "source": [
    "# import numpy as np\n",
    "# data['Report_year'] = np.nan\n",
    "# data['Report_year'] = '20' + data['RA_CAERS Created Date'].str[-2:]"
   ]
  },
  {
   "cell_type": "code",
   "execution_count": 7,
   "metadata": {
    "collapsed": false,
    "deletable": true,
    "editable": true
   },
   "outputs": [
    {
     "data": {
      "text/plain": [
       "47309"
      ]
     },
     "execution_count": 7,
     "metadata": {},
     "output_type": "execute_result"
    }
   ],
   "source": [
    "# create new variable: life_threatening\n",
    "import numpy as np\n",
    "year_data = data[data['Age Unit'] == 'Year']\n",
    "\n",
    "#len(year_data)\n",
    "        #\"LIFE THREATENING len(data.index)"
   ]
  },
  {
   "cell_type": "code",
   "execution_count": 8,
   "metadata": {
    "collapsed": false,
    "deletable": true,
    "editable": true
   },
   "outputs": [
    {
     "data": {
      "text/plain": [
       "10000"
      ]
     },
     "execution_count": 8,
     "metadata": {},
     "output_type": "execute_result"
    }
   ],
   "source": [
    "data = year_data.sample(n=10000, random_state = 1)\n",
    "\n",
    "len(data)"
   ]
  },
  {
   "cell_type": "code",
   "execution_count": 9,
   "metadata": {
    "collapsed": false,
    "deletable": true,
    "editable": true
   },
   "outputs": [],
   "source": [
    "data.index = pd.Series(range(10000))\n",
    "#data.index"
   ]
  },
  {
   "cell_type": "code",
   "execution_count": null,
   "metadata": {
    "collapsed": true,
    "deletable": true,
    "editable": true
   },
   "outputs": [],
   "source": [
    "# data['life_threatening'] = np.zeros(len(year_data))\n",
    "\n",
    "# for i in range(len(year_data)):\n",
    "#     if data['AEC_One Row Outcomes'].str.contains('DEATH')[i]:\n",
    "#         data['life_threatening'][i] = 1\n",
    "\n"
   ]
  },
  {
   "cell_type": "code",
   "execution_count": 10,
   "metadata": {
    "collapsed": false,
    "deletable": true,
    "editable": true
   },
   "outputs": [
    {
     "name": "stderr",
     "output_type": "stream",
     "text": [
      "/Users/huilin/anaconda/lib/python2.7/site-packages/ipykernel/__main__.py:5: SettingWithCopyWarning: \n",
      "A value is trying to be set on a copy of a slice from a DataFrame\n",
      "\n",
      "See the caveats in the documentation: http://pandas.pydata.org/pandas-docs/stable/indexing.html#indexing-view-versus-copy\n"
     ]
    }
   ],
   "source": [
    "data['life_threatening'] = np.zeros(len(data.index))\n",
    "\n",
    "for i in range(len(data.index)):\n",
    "    if data['AEC_One Row Outcomes'].str.contains('DEATH')[i]:\n",
    "        data['life_threatening'][i] = 1\n"
   ]
  },
  {
   "cell_type": "code",
   "execution_count": 11,
   "metadata": {
    "collapsed": false,
    "deletable": true,
    "editable": true
   },
   "outputs": [
    {
     "name": "stderr",
     "output_type": "stream",
     "text": [
      "/Users/huilin/anaconda/lib/python2.7/site-packages/ipykernel/__main__.py:3: SettingWithCopyWarning: \n",
      "A value is trying to be set on a copy of a slice from a DataFrame\n",
      "\n",
      "See the caveats in the documentation: http://pandas.pydata.org/pandas-docs/stable/indexing.html#indexing-view-versus-copy\n",
      "  app.launch_new_instance()\n"
     ]
    }
   ],
   "source": [
    "for i in range(len(data.index)):\n",
    "    if data['AEC_One Row Outcomes'].str.contains('LIFE THREATENING')[i]:\n",
    "        data['life_threatening'][i] = 1\n",
    "        "
   ]
  },
  {
   "cell_type": "code",
   "execution_count": 12,
   "metadata": {
    "collapsed": false,
    "deletable": true,
    "editable": true
   },
   "outputs": [
    {
     "data": {
      "text/plain": [
       "0.0    9064\n",
       "1.0     936\n",
       "Name: life_threatening, dtype: int64"
      ]
     },
     "execution_count": 12,
     "metadata": {},
     "output_type": "execute_result"
    }
   ],
   "source": [
    "data['life_threatening'].value_counts()"
   ]
  },
  {
   "cell_type": "code",
   "execution_count": 13,
   "metadata": {
    "collapsed": true,
    "deletable": true,
    "editable": true
   },
   "outputs": [],
   "source": [
    "data.to_csv('life_threatening.csv')"
   ]
  },
  {
   "cell_type": "code",
   "execution_count": 14,
   "metadata": {
    "collapsed": true,
    "deletable": true,
    "editable": true
   },
   "outputs": [],
   "source": [
    "data = pd.read_csv('life_threatening.csv')"
   ]
  },
  {
   "cell_type": "code",
   "execution_count": null,
   "metadata": {
    "collapsed": true,
    "deletable": true,
    "editable": true
   },
   "outputs": [],
   "source": [
    "# Start analysis: life_threatening"
   ]
  },
  {
   "cell_type": "code",
   "execution_count": 15,
   "metadata": {
    "collapsed": false,
    "deletable": true,
    "editable": true
   },
   "outputs": [],
   "source": [
    "X = data[['Industry', 'Age','Gender']]  # Age_interval\n",
    "y = data['life_threatening']"
   ]
  },
  {
   "cell_type": "code",
   "execution_count": 16,
   "metadata": {
    "collapsed": false,
    "deletable": true,
    "editable": true
   },
   "outputs": [
    {
     "name": "stderr",
     "output_type": "stream",
     "text": [
      "/Users/huilin/anaconda/lib/python2.7/site-packages/numpy/lib/arraysetops.py:200: FutureWarning: numpy not_equal will not check object identity in the future. The comparison did not return the same result as suggested by the identity (`is`)) and will change.\n",
      "  flag = np.concatenate(([True], aux[1:] != aux[:-1]))\n",
      "/Users/huilin/anaconda/lib/python2.7/site-packages/numpy/lib/arraysetops.py:259: FutureWarning: numpy equal will not check object identity in the future. The comparison did not return the same result as suggested by the identity (`is`)) and will change.\n",
      "  return aux[:-1][aux[1:] == aux[:-1]]\n",
      "/Users/huilin/anaconda/lib/python2.7/site-packages/ipykernel/__main__.py:4: SettingWithCopyWarning: \n",
      "A value is trying to be set on a copy of a slice from a DataFrame.\n",
      "Try using .loc[row_indexer,col_indexer] = value instead\n",
      "\n",
      "See the caveats in the documentation: http://pandas.pydata.org/pandas-docs/stable/indexing.html#indexing-view-versus-copy\n",
      "/Users/huilin/anaconda/lib/python2.7/site-packages/ipykernel/__main__.py:7: SettingWithCopyWarning: \n",
      "A value is trying to be set on a copy of a slice from a DataFrame.\n",
      "Try using .loc[row_indexer,col_indexer] = value instead\n",
      "\n",
      "See the caveats in the documentation: http://pandas.pydata.org/pandas-docs/stable/indexing.html#indexing-view-versus-copy\n"
     ]
    }
   ],
   "source": [
    "from sklearn import preprocessing\n",
    "le = preprocessing.LabelEncoder()\n",
    "le.fit(X['Gender'])\n",
    "X['Gender'] = le.transform(X['Gender']) \n",
    "\n",
    "le.fit(X['Industry'])\n",
    "X['Industry'] = le.transform(X['Industry'])\n",
    "\n"
   ]
  },
  {
   "cell_type": "code",
   "execution_count": 163,
   "metadata": {
    "collapsed": false,
    "deletable": true,
    "editable": true
   },
   "outputs": [
    {
     "data": {
      "text/plain": [
       "OneHotEncoder(categorical_features='all', dtype=<type 'numpy.float64'>,\n",
       "       handle_unknown='error', n_values='auto', sparse=True)"
      ]
     },
     "execution_count": 163,
     "metadata": {},
     "output_type": "execute_result"
    }
   ],
   "source": [
    "from sklearn.preprocessing import OneHotEncoder\n",
    "enc = OneHotEncoder()\n",
    "enc.fit(X)\n",
    "# enc.fit(X['Gender'])\n",
    "# #enc.transform(X['Gender']).toarray()\n",
    "\n",
    "# enc.fit(X['Industry'])\n",
    "# enc.transform(X['Industry']).toarray()\n",
    "# #enc.transform(X['Gender']).toarray()"
   ]
  },
  {
   "cell_type": "code",
   "execution_count": 122,
   "metadata": {
    "collapsed": false,
    "deletable": true,
    "editable": true
   },
   "outputs": [
    {
     "name": "stderr",
     "output_type": "stream",
     "text": [
      "/Users/huilin/anaconda/lib/python2.7/site-packages/sklearn/utils/validation.py:395: DeprecationWarning: Passing 1d arrays as data is deprecated in 0.17 and will raise ValueError in 0.19. Reshape your data either using X.reshape(-1, 1) if your data has a single feature or X.reshape(1, -1) if it contains a single sample.\n",
      "  DeprecationWarning)\n"
     ]
    },
    {
     "data": {
      "text/plain": [
       "array([[ 1.,  1.,  1., ...,  1.,  1.,  1.]])"
      ]
     },
     "execution_count": 122,
     "metadata": {},
     "output_type": "execute_result"
    }
   ],
   "source": [
    "# enc.transform(X['Industry']).toarray()"
   ]
  },
  {
   "cell_type": "code",
   "execution_count": 173,
   "metadata": {
    "collapsed": false,
    "deletable": true,
    "editable": true
   },
   "outputs": [
    {
     "data": {
      "text/plain": [
       "<4000x136 sparse matrix of type '<type 'numpy.float64'>'\n",
       "\twith 12000 stored elements in Compressed Sparse Row format>"
      ]
     },
     "execution_count": 173,
     "metadata": {},
     "output_type": "execute_result"
    }
   ],
   "source": [
    "(enc.transform(X))"
   ]
  },
  {
   "cell_type": "code",
   "execution_count": 17,
   "metadata": {
    "collapsed": false,
    "deletable": true,
    "editable": true
   },
   "outputs": [],
   "source": [
    "# stratified sampling train and test set\n",
    "from sklearn.model_selection import train_test_split\n",
    "X_train, X_test, y_train, y_test = train_test_split(X, y, test_size=0.25, random_state = 1, stratify = y)\n"
   ]
  },
  {
   "cell_type": "code",
   "execution_count": 19,
   "metadata": {
    "collapsed": false,
    "deletable": true,
    "editable": true
   },
   "outputs": [
    {
     "data": {
      "text/plain": [
       "['Industry', 'Age', 'Gender']"
      ]
     },
     "execution_count": 19,
     "metadata": {},
     "output_type": "execute_result"
    }
   ],
   "source": [
    "list(X)"
   ]
  },
  {
   "cell_type": "code",
   "execution_count": 20,
   "metadata": {
    "collapsed": false,
    "deletable": true,
    "editable": true
   },
   "outputs": [
    {
     "data": {
      "text/plain": [
       "DecisionTreeClassifier(class_weight=None, criterion='gini', max_depth=None,\n",
       "            max_features=None, max_leaf_nodes=None,\n",
       "            min_impurity_split=1e-07, min_samples_leaf=1,\n",
       "            min_samples_split=2, min_weight_fraction_leaf=0.0,\n",
       "            presort=False, random_state=100, splitter='best')"
      ]
     },
     "execution_count": 20,
     "metadata": {},
     "output_type": "execute_result"
    }
   ],
   "source": [
    "# Decision tree\n",
    "from sklearn import tree\n",
    "DT = tree.DecisionTreeClassifier(random_state=100)\n",
    "DT.fit(X_train, y_train)"
   ]
  },
  {
   "cell_type": "code",
   "execution_count": 21,
   "metadata": {
    "collapsed": false,
    "deletable": true,
    "editable": true,
    "scrolled": true
   },
   "outputs": [
    {
     "data": {
      "text/plain": [
       "array([ 0.22115763,  0.70179594,  0.07704644])"
      ]
     },
     "execution_count": 21,
     "metadata": {},
     "output_type": "execute_result"
    }
   ],
   "source": [
    "DT.feature_importances_"
   ]
  },
  {
   "cell_type": "code",
   "execution_count": 22,
   "metadata": {
    "collapsed": false,
    "deletable": true,
    "editable": true
   },
   "outputs": [
    {
     "data": {
      "text/plain": [
       "3"
      ]
     },
     "execution_count": 22,
     "metadata": {},
     "output_type": "execute_result"
    }
   ],
   "source": [
    "DT.n_features_"
   ]
  },
  {
   "cell_type": "code",
   "execution_count": 174,
   "metadata": {
    "collapsed": false,
    "deletable": true,
    "editable": true
   },
   "outputs": [
    {
     "data": {
      "text/plain": [
       "array([ 0.89036545,  0.90697674,  0.89368771,  0.9       ,  0.90333333,\n",
       "        0.90666667,  0.89666667,  0.90301003,  0.90635452,  0.89632107])"
      ]
     },
     "execution_count": 174,
     "metadata": {},
     "output_type": "execute_result"
    }
   ],
   "source": [
    "from sklearn.model_selection import cross_val_score\n",
    "scores_DT = cross_val_score(DT, X_train, y_train, cv=10)\n",
    "scores_DT"
   ]
  },
  {
   "cell_type": "code",
   "execution_count": 13,
   "metadata": {
    "collapsed": false,
    "deletable": true,
    "editable": true
   },
   "outputs": [
    {
     "name": "stdout",
     "output_type": "stream",
     "text": [
      "(0.2608695652173913, 0.065217391304347824, 0.10434782608695652)\n"
     ]
    }
   ],
   "source": [
    "predict = DT.predict(X_test)\n",
    "from sklearn import metrics\n",
    "precision = metrics.precision_score(y_test, predict)\n",
    "recall = metrics.recall_score(y_test, predict)\n",
    "f1 = metrics.f1_score(y_test, predict)\n",
    "print(precision, recall, f1)"
   ]
  },
  {
   "cell_type": "code",
   "execution_count": 25,
   "metadata": {
    "collapsed": false,
    "deletable": true,
    "editable": true
   },
   "outputs": [
    {
     "data": {
      "text/plain": [
       "41-60     3058\n",
       "61-80     2989\n",
       "21-40     2035\n",
       "0-20      1048\n",
       "81-100     870\n",
       "Name: Age_interval, dtype: int64"
      ]
     },
     "execution_count": 25,
     "metadata": {},
     "output_type": "execute_result"
    }
   ],
   "source": [
    "data['Age_interval'].value_counts()"
   ]
  },
  {
   "cell_type": "code",
   "execution_count": 27,
   "metadata": {
    "collapsed": false,
    "deletable": true,
    "editable": true
   },
   "outputs": [
    {
     "name": "stderr",
     "output_type": "stream",
     "text": [
      "/Users/huilin/anaconda/lib/python2.7/site-packages/ipykernel/__main__.py:9: SettingWithCopyWarning: \n",
      "A value is trying to be set on a copy of a slice from a DataFrame.\n",
      "Try using .loc[row_indexer,col_indexer] = value instead\n",
      "\n",
      "See the caveats in the documentation: http://pandas.pydata.org/pandas-docs/stable/indexing.html#indexing-view-versus-copy\n",
      "/Users/huilin/anaconda/lib/python2.7/site-packages/ipykernel/__main__.py:11: SettingWithCopyWarning: \n",
      "A value is trying to be set on a copy of a slice from a DataFrame.\n",
      "Try using .loc[row_indexer,col_indexer] = value instead\n",
      "\n",
      "See the caveats in the documentation: http://pandas.pydata.org/pandas-docs/stable/indexing.html#indexing-view-versus-copy\n"
     ]
    }
   ],
   "source": [
    "# DT for [20-40] \n",
    "#data20 = data[(data['Age'] >= 20) & (data['Age'] <= 40)]\n",
    "data20 = data[data['Age_interval'] == '21-40']\n",
    "X20 = data20[['Industry', 'Age','Gender']]  # Age_interval\n",
    "y20 = data20['life_threatening']\n",
    "\n",
    "le = preprocessing.LabelEncoder()\n",
    "le.fit(X20['Gender'])\n",
    "X20['Gender'] = le.transform(X20['Gender']) \n",
    "le.fit(X20['Industry'])\n",
    "X20['Industry'] = le.transform(X20['Industry'])\n"
   ]
  },
  {
   "cell_type": "code",
   "execution_count": 28,
   "metadata": {
    "collapsed": false,
    "deletable": true,
    "editable": true
   },
   "outputs": [
    {
     "data": {
      "text/plain": [
       "array([ 0.37193102,  0.51653151,  0.11153747])"
      ]
     },
     "execution_count": 28,
     "metadata": {},
     "output_type": "execute_result"
    }
   ],
   "source": [
    "#from sklearn.model_selection import train_test_split\n",
    "X20_train, X20_test, y20_train, y20_test = train_test_split(X20, y20, test_size=0.25, random_state = 1, stratify = y20)\n",
    "DT20 = tree.DecisionTreeClassifier(random_state=100)\n",
    "DT20.fit(X20_train, y20_train)\n",
    "DT20.feature_importances_"
   ]
  },
  {
   "cell_type": "code",
   "execution_count": 101,
   "metadata": {
    "collapsed": false,
    "deletable": true,
    "editable": true
   },
   "outputs": [
    {
     "name": "stdout",
     "output_type": "stream",
     "text": [
      "(0.375, 0.13636363636363635, 0.19999999999999998)\n"
     ]
    }
   ],
   "source": [
    "predict = DT20.predict(X20_test)\n",
    "from sklearn import metrics\n",
    "precision = metrics.precision_score(y20_test, predict)\n",
    "recall = metrics.recall_score(y20_test, predict)\n",
    "f1 = metrics.f1_score(y20_test, predict)\n",
    "print(precision, recall, f1)"
   ]
  },
  {
   "cell_type": "code",
   "execution_count": 29,
   "metadata": {
    "collapsed": false,
    "deletable": true,
    "editable": true
   },
   "outputs": [
    {
     "name": "stderr",
     "output_type": "stream",
     "text": [
      "/Users/huilin/anaconda/lib/python2.7/site-packages/ipykernel/__main__.py:9: SettingWithCopyWarning: \n",
      "A value is trying to be set on a copy of a slice from a DataFrame.\n",
      "Try using .loc[row_indexer,col_indexer] = value instead\n",
      "\n",
      "See the caveats in the documentation: http://pandas.pydata.org/pandas-docs/stable/indexing.html#indexing-view-versus-copy\n",
      "/Users/huilin/anaconda/lib/python2.7/site-packages/ipykernel/__main__.py:11: SettingWithCopyWarning: \n",
      "A value is trying to be set on a copy of a slice from a DataFrame.\n",
      "Try using .loc[row_indexer,col_indexer] = value instead\n",
      "\n",
      "See the caveats in the documentation: http://pandas.pydata.org/pandas-docs/stable/indexing.html#indexing-view-versus-copy\n"
     ]
    }
   ],
   "source": [
    "# DT for 40 - 60\n",
    "#data40 = data[(data['Age'] >= 40) & (data['Age'] <= 60)]\n",
    "data40 = data[data['Age_interval'] == '41-60']\n",
    "X40 = data40[['Industry', 'Age','Gender']]  # Age_interval\n",
    "y40 = data40['life_threatening']\n",
    "\n",
    "le = preprocessing.LabelEncoder()\n",
    "le.fit(X40['Gender'])\n",
    "X40['Gender'] = le.transform(X40['Gender']) \n",
    "le.fit(X40['Industry'])\n",
    "X40['Industry'] = le.transform(X40['Industry'])\n",
    "\n"
   ]
  },
  {
   "cell_type": "code",
   "execution_count": 30,
   "metadata": {
    "collapsed": false,
    "deletable": true,
    "editable": true
   },
   "outputs": [
    {
     "data": {
      "text/plain": [
       "array([ 0.41168173,  0.53094589,  0.05737238])"
      ]
     },
     "execution_count": 30,
     "metadata": {},
     "output_type": "execute_result"
    }
   ],
   "source": [
    "#from sklearn.model_selection import train_test_split\n",
    "X40_train, X40_test, y40_train, y40_test = train_test_split(X40, y40, test_size=0.25, random_state = 1, stratify = y40)\n",
    "DT40 = tree.DecisionTreeClassifier(random_state=100)\n",
    "DT40.fit(X40_train, y40_train)\n",
    "DT40.feature_importances_"
   ]
  },
  {
   "cell_type": "code",
   "execution_count": 31,
   "metadata": {
    "collapsed": false,
    "deletable": true,
    "editable": true
   },
   "outputs": [
    {
     "name": "stderr",
     "output_type": "stream",
     "text": [
      "/Users/huilin/anaconda/lib/python2.7/site-packages/ipykernel/__main__.py:9: SettingWithCopyWarning: \n",
      "A value is trying to be set on a copy of a slice from a DataFrame.\n",
      "Try using .loc[row_indexer,col_indexer] = value instead\n",
      "\n",
      "See the caveats in the documentation: http://pandas.pydata.org/pandas-docs/stable/indexing.html#indexing-view-versus-copy\n",
      "/Users/huilin/anaconda/lib/python2.7/site-packages/ipykernel/__main__.py:11: SettingWithCopyWarning: \n",
      "A value is trying to be set on a copy of a slice from a DataFrame.\n",
      "Try using .loc[row_indexer,col_indexer] = value instead\n",
      "\n",
      "See the caveats in the documentation: http://pandas.pydata.org/pandas-docs/stable/indexing.html#indexing-view-versus-copy\n"
     ]
    }
   ],
   "source": [
    "# DT for 61 - 80\n",
    "#data40 = data[(data['Age'] >= 40) & (data['Age'] <= 60)]\n",
    "data60 = data[data['Age_interval'] == '61-80']\n",
    "X60 = data60[['Industry', 'Age','Gender']]  # Age_interval\n",
    "y60 = data60['life_threatening']\n",
    "\n",
    "le = preprocessing.LabelEncoder()\n",
    "le.fit(X60['Gender'])\n",
    "X60['Gender'] = le.transform(X60['Gender']) \n",
    "le.fit(X60['Industry'])\n",
    "X60['Industry'] = le.transform(X60['Industry'])\n",
    "\n",
    "\n"
   ]
  },
  {
   "cell_type": "code",
   "execution_count": 32,
   "metadata": {
    "collapsed": false,
    "deletable": true,
    "editable": true
   },
   "outputs": [
    {
     "data": {
      "text/plain": [
       "array([ 0.47018253,  0.50073318,  0.02908429])"
      ]
     },
     "execution_count": 32,
     "metadata": {},
     "output_type": "execute_result"
    }
   ],
   "source": [
    "#from sklearn.model_selection import train_test_split\n",
    "X60_train, X60_test, y60_train, y60_test = train_test_split(X60, y60, test_size=0.25, random_state = 1, stratify = y60)\n",
    "DT60 = tree.DecisionTreeClassifier(random_state=100)\n",
    "DT60.fit(X60_train, y60_train)\n",
    "DT60.feature_importances_"
   ]
  },
  {
   "cell_type": "code",
   "execution_count": null,
   "metadata": {
    "collapsed": true,
    "deletable": true,
    "editable": true
   },
   "outputs": [],
   "source": []
  },
  {
   "cell_type": "code",
   "execution_count": 36,
   "metadata": {
    "collapsed": false,
    "deletable": true,
    "editable": true
   },
   "outputs": [
    {
     "name": "stderr",
     "output_type": "stream",
     "text": [
      "/Users/huilin/anaconda/lib/python2.7/site-packages/ipykernel/__main__.py:4: SettingWithCopyWarning: \n",
      "A value is trying to be set on a copy of a slice from a DataFrame\n",
      "\n",
      "See the caveats in the documentation: http://pandas.pydata.org/pandas-docs/stable/indexing.html#indexing-view-versus-copy\n",
      "/Users/huilin/anaconda/lib/python2.7/site-packages/ipykernel/__main__.py:12: SettingWithCopyWarning: \n",
      "A value is trying to be set on a copy of a slice from a DataFrame\n",
      "\n",
      "See the caveats in the documentation: http://pandas.pydata.org/pandas-docs/stable/indexing.html#indexing-view-versus-copy\n",
      "/Users/huilin/anaconda/lib/python2.7/site-packages/ipykernel/__main__.py:14: SettingWithCopyWarning: \n",
      "A value is trying to be set on a copy of a slice from a DataFrame\n",
      "\n",
      "See the caveats in the documentation: http://pandas.pydata.org/pandas-docs/stable/indexing.html#indexing-view-versus-copy\n",
      "/Users/huilin/anaconda/lib/python2.7/site-packages/ipykernel/__main__.py:6: SettingWithCopyWarning: \n",
      "A value is trying to be set on a copy of a slice from a DataFrame\n",
      "\n",
      "See the caveats in the documentation: http://pandas.pydata.org/pandas-docs/stable/indexing.html#indexing-view-versus-copy\n",
      "/Users/huilin/anaconda/lib/python2.7/site-packages/ipykernel/__main__.py:8: SettingWithCopyWarning: \n",
      "A value is trying to be set on a copy of a slice from a DataFrame\n",
      "\n",
      "See the caveats in the documentation: http://pandas.pydata.org/pandas-docs/stable/indexing.html#indexing-view-versus-copy\n",
      "/Users/huilin/anaconda/lib/python2.7/site-packages/ipykernel/__main__.py:10: SettingWithCopyWarning: \n",
      "A value is trying to be set on a copy of a slice from a DataFrame\n",
      "\n",
      "See the caveats in the documentation: http://pandas.pydata.org/pandas-docs/stable/indexing.html#indexing-view-versus-copy\n"
     ]
    }
   ],
   "source": [
    "data['industry_pie chart'] = ['Others']*len(data)\n",
    "for i in range(len(data)):\n",
    "    if data['Industry'][i] == 'Unconventional_food':\n",
    "        data['industry_pie chart'][i] = 'Unconventional_food'\n",
    "    elif data['Industry'][i] == 'Fishery':\n",
    "        data['industry_pie chart'][i] = 'Fishery'\n",
    "    elif data['Industry'][i] == 'Dietary Conv Food':\n",
    "        data['industry_pie chart'][i] = 'Dietary Conv Food'\n",
    "    elif data['Industry'][i] == 'Bakery Prod':\n",
    "        data['industry_pie chart'][i] = 'Bakery Prod'\n",
    "    elif data['Industry'][i] == 'Soft Drink':\n",
    "        data['industry_pie chart'][i] = 'Soft Drink'\n",
    "    elif data['Industry'][i] == 'Cosmetics':\n",
    "        data['industry_pie chart'][i] = 'Cosmetics'\n",
    "        \n",
    "    "
   ]
  },
  {
   "cell_type": "code",
   "execution_count": 37,
   "metadata": {
    "collapsed": false,
    "deletable": true,
    "editable": true
   },
   "outputs": [
    {
     "data": {
      "text/plain": [
       "Unconventional_food    7155\n",
       "Others                 1419\n",
       "Cosmetics               759\n",
       "Fishery                 202\n",
       "Dietary Conv Food       167\n",
       "Bakery Prod             151\n",
       "Soft Drink              147\n",
       "Name: industry_pie chart, dtype: int64"
      ]
     },
     "execution_count": 37,
     "metadata": {},
     "output_type": "execute_result"
    }
   ],
   "source": [
    "data['industry_pie chart'].value_counts()"
   ]
  },
  {
   "cell_type": "code",
   "execution_count": 39,
   "metadata": {
    "collapsed": false,
    "deletable": true,
    "editable": true
   },
   "outputs": [],
   "source": [
    "data.to_csv('pie_chart.csv')"
   ]
  },
  {
   "cell_type": "code",
   "execution_count": null,
   "metadata": {
    "collapsed": true,
    "deletable": true,
    "editable": true
   },
   "outputs": [],
   "source": [
    "# logistic regression"
   ]
  },
  {
   "cell_type": "code",
   "execution_count": null,
   "metadata": {
    "collapsed": true,
    "deletable": true,
    "editable": true
   },
   "outputs": [],
   "source": []
  },
  {
   "cell_type": "code",
   "execution_count": 33,
   "metadata": {
    "collapsed": false,
    "deletable": true,
    "editable": true
   },
   "outputs": [
    {
     "data": {
      "text/plain": [
       "Series([], Name: life_threatening, dtype: int64)"
      ]
     },
     "execution_count": 33,
     "metadata": {},
     "output_type": "execute_result"
    }
   ],
   "source": [
    "data['life_threatening'][data['Age_interval'] == 'Male'].value_counts()"
   ]
  },
  {
   "cell_type": "code",
   "execution_count": null,
   "metadata": {
    "collapsed": true,
    "deletable": true,
    "editable": true
   },
   "outputs": [],
   "source": []
  },
  {
   "cell_type": "code",
   "execution_count": 22,
   "metadata": {
    "collapsed": true,
    "deletable": true,
    "editable": true
   },
   "outputs": [],
   "source": [
    "data['Report_year'].to_csv('year.csv')"
   ]
  },
  {
   "cell_type": "code",
   "execution_count": 34,
   "metadata": {
    "collapsed": false,
    "deletable": true,
    "editable": true
   },
   "outputs": [
    {
     "data": {
      "text/plain": [
       "['Unconventional_food',\n",
       " 'Fishery',\n",
       " 'Nuts',\n",
       " 'Cosmetics',\n",
       " 'Soft Drink',\n",
       " 'Bakery Prod',\n",
       " 'Dietary Conv Food',\n",
       " 'Fruit',\n",
       " 'Vegetables',\n",
       " 'Milk',\n",
       " 'Cereal Prep',\n",
       " 'Snack Food Item',\n",
       " 'Mult Food Dinner',\n",
       " 'Choc',\n",
       " 'Ice Cream Prod',\n",
       " 'Baby Food Prod',\n",
       " 'Candy W',\n",
       " 'Coffee',\n",
       " 'Spices, Flavors And Salts',\n",
       " 'Food Additives (Human Use)',\n",
       " 'Whole Grain',\n",
       " 'Filled Milk',\n",
       " 'Egg',\n",
       " 'Cheese',\n",
       " 'Meat, Meat Products and Poultry',\n",
       " 'Food Sweeteners (Nutritive)',\n",
       " 'Dressing',\n",
       " 'Macaroni',\n",
       " 'Soup',\n",
       " 'Prep Salad Prod',\n",
       " 'Vegetable Oils',\n",
       " 'Gelatin',\n",
       " 'Beverage Bases',\n",
       " 'Color Additiv Food',\n",
       " 'Vegetable Protein Prod',\n",
       " 'Not Available',\n",
       " 'Miscellaneous Food Related Items',\n",
       " 'Alcoholic Beverage']"
      ]
     },
     "execution_count": 34,
     "metadata": {},
     "output_type": "execute_result"
    }
   ],
   "source": [
    "data['Industry'][(data['Gender'] == 'Male') & (data['Age Unit'] == 'Year')].value_counts().index.tolist()"
   ]
  },
  {
   "cell_type": "code",
   "execution_count": 5,
   "metadata": {
    "collapsed": false,
    "deletable": true,
    "editable": true
   },
   "outputs": [
    {
     "data": {
      "text/plain": [
       "['Baby Food Prod',\n",
       " 'Unconventional_food',\n",
       " 'Dietary Conv Food',\n",
       " 'Cosmetics',\n",
       " 'Milk',\n",
       " 'Soft Drink',\n",
       " 'Fruit',\n",
       " 'Nuts',\n",
       " 'Bakery Prod',\n",
       " 'Vegetables',\n",
       " 'Fishery',\n",
       " 'Cereal Prep',\n",
       " 'Vegetable Oils',\n",
       " 'Coffee',\n",
       " 'Snack Food Item',\n",
       " 'Mult Food Dinner',\n",
       " 'Soup',\n",
       " 'Candy W']"
      ]
     },
     "execution_count": 5,
     "metadata": {},
     "output_type": "execute_result"
    }
   ],
   "source": [
    "data['Industry'][(data['Gender'] == 'Male') & (data['Age Unit'] == 'Month')].value_counts().index.tolist()"
   ]
  },
  {
   "cell_type": "code",
   "execution_count": 5,
   "metadata": {
    "collapsed": false,
    "deletable": true,
    "editable": true
   },
   "outputs": [
    {
     "data": {
      "text/plain": [
       "['Baby Food Prod',\n",
       " 'Unconventional_food',\n",
       " 'Cosmetics',\n",
       " 'Soft Drink',\n",
       " 'Dietary Conv Food',\n",
       " 'Ice Cream Prod']"
      ]
     },
     "execution_count": 5,
     "metadata": {},
     "output_type": "execute_result"
    }
   ],
   "source": [
    "data['Industry'][(data['Gender'] == 'Male') & (data['Age Unit'] == 'Day')].value_counts().index.tolist()"
   ]
  },
  {
   "cell_type": "code",
   "execution_count": 25,
   "metadata": {
    "collapsed": false,
    "deletable": true,
    "editable": true
   },
   "outputs": [
    {
     "data": {
      "text/plain": [
       "Unconventional_food                 34011\n",
       "Cosmetics                            3528\n",
       "Nuts                                 1207\n",
       "Fishery                              1012\n",
       "Bakery Prod                           813\n",
       "Dietary Conv Food                     737\n",
       "Soft Drink                            715\n",
       "Fruit                                 633\n",
       "Vegetables                            609\n",
       "Milk                                  583\n",
       "Cereal Prep                           519\n",
       "Mult Food Dinner                      311\n",
       "Snack Food Item                       301\n",
       "Coffee                                246\n",
       "Ice Cream Prod                        246\n",
       "Choc                                  227\n",
       "Candy W                               218\n",
       "Food Additives (Human Use)            180\n",
       "Spices, Flavors And Salts             130\n",
       "Baby Food Prod                        122\n",
       "Cheese                                107\n",
       "Filled Milk                           101\n",
       "Whole Grain                            90\n",
       "Food Sweeteners (Nutritive)            88\n",
       "Egg                                    74\n",
       "Meat, Meat Products and Poultry        66\n",
       "Soup                                   66\n",
       "Dressing                               65\n",
       "Macaroni                               56\n",
       "Beverage Bases                         53\n",
       "Prep Salad Prod                        51\n",
       "Vegetable Oils                         47\n",
       "Gelatin                                27\n",
       "Vegetable Protein Prod                 23\n",
       "Color Additiv Food                     18\n",
       "Alcoholic Beverage                     14\n",
       "Miscellaneous Food Related Items       11\n",
       "Food Service                            2\n",
       "Not Available                           2\n",
       "Name: Industry, dtype: int64"
      ]
     },
     "execution_count": 25,
     "metadata": {},
     "output_type": "execute_result"
    }
   ],
   "source": [
    "data['Industry'][data['Age Unit'] == 'Year'].value_counts()"
   ]
  },
  {
   "cell_type": "code",
   "execution_count": 27,
   "metadata": {
    "collapsed": false,
    "deletable": true,
    "editable": true
   },
   "outputs": [
    {
     "data": {
      "text/plain": [
       "['Baby Food Prod',\n",
       " 'Unconventional_food',\n",
       " 'Dietary Conv Food',\n",
       " 'Cosmetics',\n",
       " 'Soft Drink',\n",
       " 'Milk',\n",
       " 'Bakery Prod',\n",
       " 'Fruit',\n",
       " 'Vegetables',\n",
       " 'Nuts',\n",
       " 'Candy W',\n",
       " 'Mult Food Dinner',\n",
       " 'Coffee',\n",
       " 'Cereal Prep',\n",
       " 'Beverage Bases',\n",
       " 'Fishery',\n",
       " 'Snack Food Item',\n",
       " 'Soup',\n",
       " 'Food Additives (Human Use)',\n",
       " 'Alcoholic Beverage',\n",
       " 'Vegetable Oils',\n",
       " 'Food Sweeteners (Nutritive)',\n",
       " 'Dressing',\n",
       " 'Ice Cream Prod',\n",
       " 'Whole Grain']"
      ]
     },
     "execution_count": 27,
     "metadata": {},
     "output_type": "execute_result"
    }
   ],
   "source": [
    "data['Industry'][data['Age Unit'] == 'Month'].value_counts().index.tolist()"
   ]
  },
  {
   "cell_type": "code",
   "execution_count": 28,
   "metadata": {
    "collapsed": false,
    "deletable": true,
    "editable": true
   },
   "outputs": [
    {
     "data": {
      "text/plain": [
       "Baby Food Prod         70\n",
       "Unconventional_food    29\n",
       "Cosmetics               6\n",
       "Soft Drink              4\n",
       "Dietary Conv Food       4\n",
       "Vegetables              1\n",
       "Ice Cream Prod          1\n",
       "Egg                     1\n",
       "Name: Industry, dtype: int64"
      ]
     },
     "execution_count": 28,
     "metadata": {},
     "output_type": "execute_result"
    }
   ],
   "source": [
    "data['Industry'][data['Age Unit'] == 'Day'].value_counts()"
   ]
  },
  {
   "cell_type": "code",
   "execution_count": 9,
   "metadata": {
    "collapsed": false,
    "deletable": true,
    "editable": true
   },
   "outputs": [],
   "source": [
    "#data['Age_interval'][(data['Gender'] == 'Male') & (data['Age Unit'] == 'Day')].value_counts()"
   ]
  },
  {
   "cell_type": "code",
   "execution_count": null,
   "metadata": {
    "collapsed": true,
    "deletable": true,
    "editable": true
   },
   "outputs": [],
   "source": []
  },
  {
   "cell_type": "code",
   "execution_count": null,
   "metadata": {
    "collapsed": true,
    "deletable": true,
    "editable": true
   },
   "outputs": [],
   "source": []
  }
 ],
 "metadata": {
  "kernelspec": {
   "display_name": "Python 2",
   "language": "python",
   "name": "python2"
  },
  "language_info": {
   "codemirror_mode": {
    "name": "ipython",
    "version": 2
   },
   "file_extension": ".py",
   "mimetype": "text/x-python",
   "name": "python",
   "nbconvert_exporter": "python",
   "pygments_lexer": "ipython2",
   "version": "2.7.13"
  }
 },
 "nbformat": 4,
 "nbformat_minor": 0
}
